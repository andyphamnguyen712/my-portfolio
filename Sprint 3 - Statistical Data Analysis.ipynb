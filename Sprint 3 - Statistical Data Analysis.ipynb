{
 "cells": [
  {
   "cell_type": "code",
   "execution_count": null,
   "metadata": {},
   "outputs": [],
   "source": [
    "<div style=\"border: solid blue 2px; padding: 15px; margin: 10px\">\n",
    "  <b>Overall Summary of the Project – Iteration 2</b><br><br>\n",
    "\n",
    "  Hi Andy, I’m <b>Victor Camargo</b> (<a href=\"https://hub.tripleten.com/u/e9cc9c11\" target=\"_blank\">TripleTen Hub profile</a>). Thanks for addressing all the feedback in your revision — your project is now complete and approved!<br><br>\n",
    "\n",
    "  <b>Nice work on:</b><br>\n",
    "  ✔️ Fixing the revenue function to correctly handle overages, base fees, and rounding rules<br>\n",
    "  ✔️ Updating your revenue analysis to highlight both average and median per-user values<br>\n",
    "  ✔️ Re-running and clarifying your hypothesis tests with proper H0/Ha and conclusions<br>\n",
    "  ✔️ Keeping your notebook clean, reproducible, and well-structured with clear explanations<br><br>\n",
    "\n",
    "  ✅ With these improvements, your project fully meets the requirements. Congratulations on reaching this milestone! 🎉<br><br>\n",
    "\n",
    "  <b>Keep up the great work — this was a solid project, and you should be proud of the result.</b><br>\n",
    "</div>\n"
   ]
  },
  {
   "cell_type": "markdown",
   "metadata": {},
   "source": [
    "<div style=\"border: solid blue 2px; padding: 15px; margin: 10px\">\n",
    "  <b>Overall Summary of the Project – Iteration 1</b><br><br>\n",
    "\n",
    "  Hi Andy, I’m <b>Victor Camargo</b> (<a href=\"https://hub.tripleten.com/u/e9cc9c11\" target=\"_blank\">TripleTen Hub profile</a>). Thanks for submitting your Statistical Data Analysis project!<br><br>\n",
    "\n",
    "  <b>Nice work on:</b><br>\n",
    "  ✔️ Careful data preparation — converting dates, rounding call durations, extracting months, and merging user/plan details<br>\n",
    "  ✔️ Clear exploratory analysis with bar charts, histograms, and boxplots for calls, messages, and internet usage<br>\n",
    "  ✔️ Thoughtful interpretation of distributions (skewness, outliers, usage behavior differences)<br><br>\n",
    "\n",
    "  A few things still need your attention before approval:<br>\n",
    "  • Correct the revenue calculation (Ultimate overage rates, prevent negative overages, apply monthly total rounding, always include base fee)<br>\n",
    "  • Re-run the revenue analysis once fixed, and emphasize median and per-user averages instead of relying only on totals<br>\n",
    "  • Revisit your hypothesis testing after the revenue correction, making H0/Ha explicit and commenting on assumptions (normality, variance)<br><br>\n",
    "\n",
    "  <hr>\n",
    "\n",
    "  🔹 <b>Legend:</b><br>\n",
    "  🟢 Green = well done<br>\n",
    "  🟡 Yellow = suggestions<br>\n",
    "  🔴 Red = must fix<br>\n",
    "  🔵 Blue = overall summary<br><br>\n",
    "\n",
    "  <b>Please ensure</b> all cells run smoothly from top to bottom and display outputs before resubmitting.  \n",
    "  <b>Kind reminder:</b> keep reviewer comments in place so we can track progress and support you effectively.<br><br>\n",
    "\n",
    "  <b>Feel free to reach out in the Questions channel if you need guidance.</b><br>\n",
    "</div>\n"
   ]
  },
  {
   "cell_type": "markdown",
   "metadata": {},
   "source": [
    "# Which one is a better plan?\n",
    "\n",
    "You work as an analyst for the telecom operator Megaline. The company offers its clients two prepaid plans, Surf and Ultimate. The commercial department wants to know which of the plans brings in more revenue in order to adjust the advertising budget.\n",
    "\n",
    "You are going to carry out a preliminary analysis of the plans based on a relatively small client selection. You'll have the data on 500 Megaline clients: who the clients are, where they're from, which plan they use, and the number of calls they made and text messages they sent in 2018. Your job is to analyze the clients' behavior and determine which prepaid plan brings in more revenue."
   ]
  },
  {
   "cell_type": "markdown",
   "metadata": {},
   "source": [
    "[We've provided you with some commentary to guide your thinking as you complete this project. However, make sure to remove all the bracketed comments before submitting your project.]\n",
    "\n",
    "[Before you dive into analyzing your data, explain for yourself the purpose of the project and actions you plan to take.]\n",
    "\n",
    "[Please bear in mind that studying, amending, and analyzing data is an iterative process. It is normal to return to previous steps and correct/expand them to allow for further steps.]"
   ]
  },
  {
   "cell_type": "markdown",
   "metadata": {},
   "source": [
    "## Initialization"
   ]
  },
  {
   "cell_type": "markdown",
   "metadata": {},
   "source": []
  },
  {
   "cell_type": "code",
   "execution_count": 1,
   "metadata": {},
   "outputs": [],
   "source": [
    "# Loading all the libraries\n",
    "import pandas as pd\n",
    "import numpy as np\n",
    "import matplotlib.pyplot as plt\n",
    "import math\n",
    "from math import factorial\n",
    "from scipy import stats as st"
   ]
  },
  {
   "cell_type": "markdown",
   "metadata": {},
   "source": [
    "## Load data"
   ]
  },
  {
   "cell_type": "markdown",
   "metadata": {},
   "source": []
  },
  {
   "cell_type": "code",
   "execution_count": 2,
   "metadata": {},
   "outputs": [],
   "source": [
    "# Load the data files into different DataFrames\n",
    "calls = pd.read_csv('/datasets/megaline_calls.csv')\n",
    "internet = pd.read_csv('/datasets/megaline_internet.csv')\n",
    "messages = pd.read_csv('/datasets/megaline_messages.csv')\n",
    "plans = pd.read_csv('/datasets/megaline_plans.csv')\n",
    "users = pd.read_csv('/datasets/megaline_users.csv')"
   ]
  },
  {
   "cell_type": "markdown",
   "metadata": {},
   "source": [
    "<div class=\"alert alert-success\">\n",
    "  <b>Reviewer’s comment – Iteration 1:</b><br>\n",
    "  Great job importing all the essential libraries (Pandas, NumPy, Matplotlib, SciPy) and loading each dataset into clearly named DataFrames. This creates a solid foundation for your analysis and keeps the workflow organized from the start.\n",
    "</div>\n"
   ]
  },
  {
   "cell_type": "markdown",
   "metadata": {},
   "source": [
    "## Prepare the data"
   ]
  },
  {
   "cell_type": "markdown",
   "metadata": {},
   "source": [
    "[The data for this project is split into several tables. Explore each one to get an initial understanding of the data. Do necessary corrections to each table if necessary.]"
   ]
  },
  {
   "cell_type": "markdown",
   "metadata": {},
   "source": [
    "## Plans"
   ]
  },
  {
   "cell_type": "code",
   "execution_count": 3,
   "metadata": {},
   "outputs": [
    {
     "name": "stdout",
     "output_type": "stream",
     "text": [
      "<class 'pandas.core.frame.DataFrame'>\n",
      "RangeIndex: 2 entries, 0 to 1\n",
      "Data columns (total 8 columns):\n",
      " #   Column                 Non-Null Count  Dtype  \n",
      "---  ------                 --------------  -----  \n",
      " 0   messages_included      2 non-null      int64  \n",
      " 1   mb_per_month_included  2 non-null      int64  \n",
      " 2   minutes_included       2 non-null      int64  \n",
      " 3   usd_monthly_pay        2 non-null      int64  \n",
      " 4   usd_per_gb             2 non-null      int64  \n",
      " 5   usd_per_message        2 non-null      float64\n",
      " 6   usd_per_minute         2 non-null      float64\n",
      " 7   plan_name              2 non-null      object \n",
      "dtypes: float64(2), int64(5), object(1)\n",
      "memory usage: 256.0+ bytes\n"
     ]
    },
    {
     "data": {
      "text/html": [
       "<div>\n",
       "<style scoped>\n",
       "    .dataframe tbody tr th:only-of-type {\n",
       "        vertical-align: middle;\n",
       "    }\n",
       "\n",
       "    .dataframe tbody tr th {\n",
       "        vertical-align: top;\n",
       "    }\n",
       "\n",
       "    .dataframe thead th {\n",
       "        text-align: right;\n",
       "    }\n",
       "</style>\n",
       "<table border=\"1\" class=\"dataframe\">\n",
       "  <thead>\n",
       "    <tr style=\"text-align: right;\">\n",
       "      <th></th>\n",
       "      <th>messages_included</th>\n",
       "      <th>mb_per_month_included</th>\n",
       "      <th>minutes_included</th>\n",
       "      <th>usd_monthly_pay</th>\n",
       "      <th>usd_per_gb</th>\n",
       "      <th>usd_per_message</th>\n",
       "      <th>usd_per_minute</th>\n",
       "    </tr>\n",
       "  </thead>\n",
       "  <tbody>\n",
       "    <tr>\n",
       "      <th>count</th>\n",
       "      <td>2.000000</td>\n",
       "      <td>2.000000</td>\n",
       "      <td>2.000000</td>\n",
       "      <td>2.000000</td>\n",
       "      <td>2.00000</td>\n",
       "      <td>2.000000</td>\n",
       "      <td>2.000000</td>\n",
       "    </tr>\n",
       "    <tr>\n",
       "      <th>mean</th>\n",
       "      <td>525.000000</td>\n",
       "      <td>23040.000000</td>\n",
       "      <td>1750.000000</td>\n",
       "      <td>45.000000</td>\n",
       "      <td>8.50000</td>\n",
       "      <td>0.020000</td>\n",
       "      <td>0.020000</td>\n",
       "    </tr>\n",
       "    <tr>\n",
       "      <th>std</th>\n",
       "      <td>671.751442</td>\n",
       "      <td>10861.160159</td>\n",
       "      <td>1767.766953</td>\n",
       "      <td>35.355339</td>\n",
       "      <td>2.12132</td>\n",
       "      <td>0.014142</td>\n",
       "      <td>0.014142</td>\n",
       "    </tr>\n",
       "    <tr>\n",
       "      <th>min</th>\n",
       "      <td>50.000000</td>\n",
       "      <td>15360.000000</td>\n",
       "      <td>500.000000</td>\n",
       "      <td>20.000000</td>\n",
       "      <td>7.00000</td>\n",
       "      <td>0.010000</td>\n",
       "      <td>0.010000</td>\n",
       "    </tr>\n",
       "    <tr>\n",
       "      <th>25%</th>\n",
       "      <td>287.500000</td>\n",
       "      <td>19200.000000</td>\n",
       "      <td>1125.000000</td>\n",
       "      <td>32.500000</td>\n",
       "      <td>7.75000</td>\n",
       "      <td>0.015000</td>\n",
       "      <td>0.015000</td>\n",
       "    </tr>\n",
       "    <tr>\n",
       "      <th>50%</th>\n",
       "      <td>525.000000</td>\n",
       "      <td>23040.000000</td>\n",
       "      <td>1750.000000</td>\n",
       "      <td>45.000000</td>\n",
       "      <td>8.50000</td>\n",
       "      <td>0.020000</td>\n",
       "      <td>0.020000</td>\n",
       "    </tr>\n",
       "    <tr>\n",
       "      <th>75%</th>\n",
       "      <td>762.500000</td>\n",
       "      <td>26880.000000</td>\n",
       "      <td>2375.000000</td>\n",
       "      <td>57.500000</td>\n",
       "      <td>9.25000</td>\n",
       "      <td>0.025000</td>\n",
       "      <td>0.025000</td>\n",
       "    </tr>\n",
       "    <tr>\n",
       "      <th>max</th>\n",
       "      <td>1000.000000</td>\n",
       "      <td>30720.000000</td>\n",
       "      <td>3000.000000</td>\n",
       "      <td>70.000000</td>\n",
       "      <td>10.00000</td>\n",
       "      <td>0.030000</td>\n",
       "      <td>0.030000</td>\n",
       "    </tr>\n",
       "  </tbody>\n",
       "</table>\n",
       "</div>"
      ],
      "text/plain": [
       "       messages_included  mb_per_month_included  minutes_included  \\\n",
       "count           2.000000               2.000000          2.000000   \n",
       "mean          525.000000           23040.000000       1750.000000   \n",
       "std           671.751442           10861.160159       1767.766953   \n",
       "min            50.000000           15360.000000        500.000000   \n",
       "25%           287.500000           19200.000000       1125.000000   \n",
       "50%           525.000000           23040.000000       1750.000000   \n",
       "75%           762.500000           26880.000000       2375.000000   \n",
       "max          1000.000000           30720.000000       3000.000000   \n",
       "\n",
       "       usd_monthly_pay  usd_per_gb  usd_per_message  usd_per_minute  \n",
       "count         2.000000     2.00000         2.000000        2.000000  \n",
       "mean         45.000000     8.50000         0.020000        0.020000  \n",
       "std          35.355339     2.12132         0.014142        0.014142  \n",
       "min          20.000000     7.00000         0.010000        0.010000  \n",
       "25%          32.500000     7.75000         0.015000        0.015000  \n",
       "50%          45.000000     8.50000         0.020000        0.020000  \n",
       "75%          57.500000     9.25000         0.025000        0.025000  \n",
       "max          70.000000    10.00000         0.030000        0.030000  "
      ]
     },
     "execution_count": 3,
     "metadata": {},
     "output_type": "execute_result"
    }
   ],
   "source": [
    "# Print the general/summary information about the plans' DataFrame\n",
    "plans.info()\n",
    "plans.describe()"
   ]
  },
  {
   "cell_type": "code",
   "execution_count": 4,
   "metadata": {},
   "outputs": [
    {
     "name": "stdout",
     "output_type": "stream",
     "text": [
      "   messages_included  mb_per_month_included  minutes_included  \\\n",
      "0                 50                  15360               500   \n",
      "1               1000                  30720              3000   \n",
      "\n",
      "   usd_monthly_pay  usd_per_gb  usd_per_message  usd_per_minute plan_name  \n",
      "0               20          10             0.03            0.03      surf  \n",
      "1               70           7             0.01            0.01  ultimate  \n"
     ]
    }
   ],
   "source": [
    "# Print a sample of data for plans\n",
    "print(plans.head())"
   ]
  },
  {
   "cell_type": "markdown",
   "metadata": {},
   "source": [
    "[Describe what you see and notice in the general information and the printed data sample for the above price of data. Are there any issues (inappropriate data types, missing data etc) that may need further investigation and changes? How that can be fixed?]"
   ]
  },
  {
   "cell_type": "markdown",
   "metadata": {},
   "source": [
    " "
   ]
  },
  {
   "cell_type": "markdown",
   "metadata": {
    "collapsed": false,
    "jupyter": {
     "outputs_hidden": false
    }
   },
   "source": [
    "## Fix data"
   ]
  },
  {
   "cell_type": "markdown",
   "metadata": {},
   "source": [
    "[Fix obvious issues with the data given the initial observations.]"
   ]
  },
  {
   "cell_type": "code",
   "execution_count": 5,
   "metadata": {},
   "outputs": [],
   "source": [
    "#Some variables are the wrong object type.  Theres only 2 rows because 2 plans.\n",
    "#convert usd variables to floats\n",
    "plans['usd_monthly_pay'] = plans['usd_monthly_pay'].astype('float64')\n",
    "plans['usd_per_gb'] = plans['usd_per_gb'].astype('float64')"
   ]
  },
  {
   "cell_type": "markdown",
   "metadata": {},
   "source": [
    "## Enrich data"
   ]
  },
  {
   "cell_type": "markdown",
   "metadata": {},
   "source": [
    "[Add additional factors to the data if you believe they might be useful.]"
   ]
  },
  {
   "cell_type": "code",
   "execution_count": 6,
   "metadata": {},
   "outputs": [],
   "source": [
    "#not too sure if theres anything else"
   ]
  },
  {
   "cell_type": "markdown",
   "metadata": {},
   "source": [
    "## Users"
   ]
  },
  {
   "cell_type": "code",
   "execution_count": 7,
   "metadata": {},
   "outputs": [
    {
     "name": "stdout",
     "output_type": "stream",
     "text": [
      "<class 'pandas.core.frame.DataFrame'>\n",
      "RangeIndex: 500 entries, 0 to 499\n",
      "Data columns (total 8 columns):\n",
      " #   Column      Non-Null Count  Dtype \n",
      "---  ------      --------------  ----- \n",
      " 0   user_id     500 non-null    int64 \n",
      " 1   first_name  500 non-null    object\n",
      " 2   last_name   500 non-null    object\n",
      " 3   age         500 non-null    int64 \n",
      " 4   city        500 non-null    object\n",
      " 5   reg_date    500 non-null    object\n",
      " 6   plan        500 non-null    object\n",
      " 7   churn_date  34 non-null     object\n",
      "dtypes: int64(2), object(6)\n",
      "memory usage: 31.4+ KB\n"
     ]
    },
    {
     "data": {
      "text/html": [
       "<div>\n",
       "<style scoped>\n",
       "    .dataframe tbody tr th:only-of-type {\n",
       "        vertical-align: middle;\n",
       "    }\n",
       "\n",
       "    .dataframe tbody tr th {\n",
       "        vertical-align: top;\n",
       "    }\n",
       "\n",
       "    .dataframe thead th {\n",
       "        text-align: right;\n",
       "    }\n",
       "</style>\n",
       "<table border=\"1\" class=\"dataframe\">\n",
       "  <thead>\n",
       "    <tr style=\"text-align: right;\">\n",
       "      <th></th>\n",
       "      <th>user_id</th>\n",
       "      <th>age</th>\n",
       "    </tr>\n",
       "  </thead>\n",
       "  <tbody>\n",
       "    <tr>\n",
       "      <th>count</th>\n",
       "      <td>500.000000</td>\n",
       "      <td>500.000000</td>\n",
       "    </tr>\n",
       "    <tr>\n",
       "      <th>mean</th>\n",
       "      <td>1249.500000</td>\n",
       "      <td>45.486000</td>\n",
       "    </tr>\n",
       "    <tr>\n",
       "      <th>std</th>\n",
       "      <td>144.481833</td>\n",
       "      <td>16.972269</td>\n",
       "    </tr>\n",
       "    <tr>\n",
       "      <th>min</th>\n",
       "      <td>1000.000000</td>\n",
       "      <td>18.000000</td>\n",
       "    </tr>\n",
       "    <tr>\n",
       "      <th>25%</th>\n",
       "      <td>1124.750000</td>\n",
       "      <td>30.000000</td>\n",
       "    </tr>\n",
       "    <tr>\n",
       "      <th>50%</th>\n",
       "      <td>1249.500000</td>\n",
       "      <td>46.000000</td>\n",
       "    </tr>\n",
       "    <tr>\n",
       "      <th>75%</th>\n",
       "      <td>1374.250000</td>\n",
       "      <td>61.000000</td>\n",
       "    </tr>\n",
       "    <tr>\n",
       "      <th>max</th>\n",
       "      <td>1499.000000</td>\n",
       "      <td>75.000000</td>\n",
       "    </tr>\n",
       "  </tbody>\n",
       "</table>\n",
       "</div>"
      ],
      "text/plain": [
       "           user_id         age\n",
       "count   500.000000  500.000000\n",
       "mean   1249.500000   45.486000\n",
       "std     144.481833   16.972269\n",
       "min    1000.000000   18.000000\n",
       "25%    1124.750000   30.000000\n",
       "50%    1249.500000   46.000000\n",
       "75%    1374.250000   61.000000\n",
       "max    1499.000000   75.000000"
      ]
     },
     "execution_count": 7,
     "metadata": {},
     "output_type": "execute_result"
    }
   ],
   "source": [
    "# Print the general/summary information about the users' DataFrame\n",
    "users.info()\n",
    "users.describe()"
   ]
  },
  {
   "cell_type": "code",
   "execution_count": 8,
   "metadata": {},
   "outputs": [
    {
     "name": "stdout",
     "output_type": "stream",
     "text": [
      "   user_id first_name  last_name  age                                   city  \\\n",
      "0     1000   Anamaria      Bauer   45  Atlanta-Sandy Springs-Roswell, GA MSA   \n",
      "1     1001     Mickey  Wilkerson   28        Seattle-Tacoma-Bellevue, WA MSA   \n",
      "2     1002     Carlee    Hoffman   36   Las Vegas-Henderson-Paradise, NV MSA   \n",
      "3     1003   Reynaldo    Jenkins   52                          Tulsa, OK MSA   \n",
      "4     1004    Leonila   Thompson   40        Seattle-Tacoma-Bellevue, WA MSA   \n",
      "\n",
      "     reg_date      plan churn_date  \n",
      "0  2018-12-24  ultimate        NaN  \n",
      "1  2018-08-13      surf        NaN  \n",
      "2  2018-10-21      surf        NaN  \n",
      "3  2018-01-28      surf        NaN  \n",
      "4  2018-05-23      surf        NaN  \n"
     ]
    }
   ],
   "source": [
    "# Print a sample of data for users\n",
    "print(users.head())\n"
   ]
  },
  {
   "cell_type": "markdown",
   "metadata": {},
   "source": [
    "[Describe what you see and notice in the general information and the printed data sample for the above price of data. Are there any issues (inappropriate data types, missing data etc) that may need further investigation and changes? How that can be fixed?]"
   ]
  },
  {
   "cell_type": "markdown",
   "metadata": {},
   "source": [
    " "
   ]
  },
  {
   "cell_type": "markdown",
   "metadata": {},
   "source": [
    "### Fix Data"
   ]
  },
  {
   "cell_type": "markdown",
   "metadata": {},
   "source": [
    "[Fix obvious issues with the data given the initial observations.]"
   ]
  },
  {
   "cell_type": "code",
   "execution_count": 9,
   "metadata": {},
   "outputs": [
    {
     "name": "stdout",
     "output_type": "stream",
     "text": [
      "0      False\n",
      "1      False\n",
      "2      False\n",
      "3      False\n",
      "4      False\n",
      "       ...  \n",
      "495    False\n",
      "496    False\n",
      "497    False\n",
      "498    False\n",
      "499    False\n",
      "Length: 500, dtype: bool\n"
     ]
    }
   ],
   "source": [
    "#There is lots more data here so checking for duplicates and missing values seem standard.\n",
    "#We also have some objects in the wrong format\n",
    "\n",
    "#duplicates checking\n",
    "users_duplicates = users.duplicated()\n",
    "print(users_duplicates)\n",
    "np.unique(users_duplicates)\n",
    "\n",
    "#missing entries\n",
    "users.isnull().sum()\n",
    "\n",
    "#date variables to datetime\n",
    "users['reg_date']=pd.to_datetime(users['reg_date'])\n",
    "users['churn_date']=pd.to_datetime(users['churn_date'])"
   ]
  },
  {
   "cell_type": "markdown",
   "metadata": {},
   "source": [
    "### Enrich Data"
   ]
  },
  {
   "cell_type": "markdown",
   "metadata": {},
   "source": [
    "[Add additional factors to the data if you believe they might be useful.]"
   ]
  },
  {
   "cell_type": "code",
   "execution_count": 10,
   "metadata": {},
   "outputs": [],
   "source": [
    "#not too sure if theres anything else here"
   ]
  },
  {
   "cell_type": "markdown",
   "metadata": {},
   "source": [
    "## Calls"
   ]
  },
  {
   "cell_type": "code",
   "execution_count": 11,
   "metadata": {},
   "outputs": [
    {
     "name": "stdout",
     "output_type": "stream",
     "text": [
      "<class 'pandas.core.frame.DataFrame'>\n",
      "RangeIndex: 137735 entries, 0 to 137734\n",
      "Data columns (total 4 columns):\n",
      " #   Column     Non-Null Count   Dtype  \n",
      "---  ------     --------------   -----  \n",
      " 0   id         137735 non-null  object \n",
      " 1   user_id    137735 non-null  int64  \n",
      " 2   call_date  137735 non-null  object \n",
      " 3   duration   137735 non-null  float64\n",
      "dtypes: float64(1), int64(1), object(2)\n",
      "memory usage: 4.2+ MB\n"
     ]
    },
    {
     "data": {
      "text/html": [
       "<div>\n",
       "<style scoped>\n",
       "    .dataframe tbody tr th:only-of-type {\n",
       "        vertical-align: middle;\n",
       "    }\n",
       "\n",
       "    .dataframe tbody tr th {\n",
       "        vertical-align: top;\n",
       "    }\n",
       "\n",
       "    .dataframe thead th {\n",
       "        text-align: right;\n",
       "    }\n",
       "</style>\n",
       "<table border=\"1\" class=\"dataframe\">\n",
       "  <thead>\n",
       "    <tr style=\"text-align: right;\">\n",
       "      <th></th>\n",
       "      <th>user_id</th>\n",
       "      <th>duration</th>\n",
       "    </tr>\n",
       "  </thead>\n",
       "  <tbody>\n",
       "    <tr>\n",
       "      <th>count</th>\n",
       "      <td>137735.000000</td>\n",
       "      <td>137735.000000</td>\n",
       "    </tr>\n",
       "    <tr>\n",
       "      <th>mean</th>\n",
       "      <td>1247.658046</td>\n",
       "      <td>6.745927</td>\n",
       "    </tr>\n",
       "    <tr>\n",
       "      <th>std</th>\n",
       "      <td>139.416268</td>\n",
       "      <td>5.839241</td>\n",
       "    </tr>\n",
       "    <tr>\n",
       "      <th>min</th>\n",
       "      <td>1000.000000</td>\n",
       "      <td>0.000000</td>\n",
       "    </tr>\n",
       "    <tr>\n",
       "      <th>25%</th>\n",
       "      <td>1128.000000</td>\n",
       "      <td>1.290000</td>\n",
       "    </tr>\n",
       "    <tr>\n",
       "      <th>50%</th>\n",
       "      <td>1247.000000</td>\n",
       "      <td>5.980000</td>\n",
       "    </tr>\n",
       "    <tr>\n",
       "      <th>75%</th>\n",
       "      <td>1365.000000</td>\n",
       "      <td>10.690000</td>\n",
       "    </tr>\n",
       "    <tr>\n",
       "      <th>max</th>\n",
       "      <td>1499.000000</td>\n",
       "      <td>37.600000</td>\n",
       "    </tr>\n",
       "  </tbody>\n",
       "</table>\n",
       "</div>"
      ],
      "text/plain": [
       "             user_id       duration\n",
       "count  137735.000000  137735.000000\n",
       "mean     1247.658046       6.745927\n",
       "std       139.416268       5.839241\n",
       "min      1000.000000       0.000000\n",
       "25%      1128.000000       1.290000\n",
       "50%      1247.000000       5.980000\n",
       "75%      1365.000000      10.690000\n",
       "max      1499.000000      37.600000"
      ]
     },
     "execution_count": 11,
     "metadata": {},
     "output_type": "execute_result"
    }
   ],
   "source": [
    "# Print the general/summary information about the calls' DataFrame\n",
    "calls.info()\n",
    "calls.describe()"
   ]
  },
  {
   "cell_type": "code",
   "execution_count": 12,
   "metadata": {},
   "outputs": [
    {
     "name": "stdout",
     "output_type": "stream",
     "text": [
      "         id  user_id   call_date  duration\n",
      "0   1000_93     1000  2018-12-27      8.52\n",
      "1  1000_145     1000  2018-12-27     13.66\n",
      "2  1000_247     1000  2018-12-27     14.48\n",
      "3  1000_309     1000  2018-12-28      5.76\n",
      "4  1000_380     1000  2018-12-30      4.22\n"
     ]
    }
   ],
   "source": [
    "# Print a sample of data for calls\n",
    "print(calls.head())\n"
   ]
  },
  {
   "cell_type": "markdown",
   "metadata": {},
   "source": [
    "[Describe what you see and notice in the general information and the printed data sample for the above price of data. Are there any issues (inappropriate data types, missing data etc) that may need further investigation and changes? How that can be fixed?]"
   ]
  },
  {
   "cell_type": "markdown",
   "metadata": {},
   "source": [
    " "
   ]
  },
  {
   "cell_type": "markdown",
   "metadata": {},
   "source": [
    "### Fix data"
   ]
  },
  {
   "cell_type": "markdown",
   "metadata": {},
   "source": [
    "[Fix obvious issues with the data given the initial observations.]"
   ]
  },
  {
   "cell_type": "code",
   "execution_count": 13,
   "metadata": {},
   "outputs": [
    {
     "name": "stdout",
     "output_type": "stream",
     "text": [
      "0         False\n",
      "1         False\n",
      "2         False\n",
      "3         False\n",
      "4         False\n",
      "          ...  \n",
      "137730    False\n",
      "137731    False\n",
      "137732    False\n",
      "137733    False\n",
      "137734    False\n",
      "Length: 137735, dtype: bool\n"
     ]
    }
   ],
   "source": [
    "#Same thing as above, check for duplicates, missing values, format errors.\n",
    "\n",
    "#check for duplicates\n",
    "calls_duplicates = calls.duplicated()\n",
    "print(calls_duplicates)\n",
    "np.unique(calls_duplicates)\n",
    "\n",
    "#check for missing data\n",
    "calls.isnull().sum()\n",
    "\n",
    "#call date to date time\n",
    "calls['call_date']=pd.to_datetime(calls['call_date'])"
   ]
  },
  {
   "cell_type": "markdown",
   "metadata": {},
   "source": [
    "### Enrich data"
   ]
  },
  {
   "cell_type": "markdown",
   "metadata": {},
   "source": [
    "[Add additional factors to the data if you believe they might be useful.]"
   ]
  },
  {
   "cell_type": "code",
   "execution_count": 14,
   "metadata": {},
   "outputs": [
    {
     "name": "stdout",
     "output_type": "stream",
     "text": [
      "0          9.0\n",
      "1         14.0\n",
      "2         15.0\n",
      "3          6.0\n",
      "4          5.0\n",
      "          ... \n",
      "137730     9.0\n",
      "137731    11.0\n",
      "137732     9.0\n",
      "137733     1.0\n",
      "137734    14.0\n",
      "Name: duration, Length: 137735, dtype: float64\n",
      "0         12\n",
      "1         12\n",
      "2         12\n",
      "3         12\n",
      "4         12\n",
      "          ..\n",
      "137730    11\n",
      "137731    10\n",
      "137732     9\n",
      "137733    10\n",
      "137734    12\n",
      "Name: month, Length: 137735, dtype: int64\n"
     ]
    }
   ],
   "source": [
    "#Description says calls are rounded up to nearest minute\n",
    "calls['duration'] = np.ceil(calls['duration'])\n",
    "print(calls['duration'])\n",
    "\n",
    "#Description says plans are calculated monthly\n",
    "calls['month']=calls['call_date'].dt.month\n",
    "print(calls['month'])"
   ]
  },
  {
   "cell_type": "markdown",
   "metadata": {},
   "source": [
    "## Messages"
   ]
  },
  {
   "cell_type": "code",
   "execution_count": 15,
   "metadata": {},
   "outputs": [
    {
     "name": "stdout",
     "output_type": "stream",
     "text": [
      "<class 'pandas.core.frame.DataFrame'>\n",
      "RangeIndex: 76051 entries, 0 to 76050\n",
      "Data columns (total 3 columns):\n",
      " #   Column        Non-Null Count  Dtype \n",
      "---  ------        --------------  ----- \n",
      " 0   id            76051 non-null  object\n",
      " 1   user_id       76051 non-null  int64 \n",
      " 2   message_date  76051 non-null  object\n",
      "dtypes: int64(1), object(2)\n",
      "memory usage: 1.7+ MB\n"
     ]
    },
    {
     "data": {
      "text/html": [
       "<div>\n",
       "<style scoped>\n",
       "    .dataframe tbody tr th:only-of-type {\n",
       "        vertical-align: middle;\n",
       "    }\n",
       "\n",
       "    .dataframe tbody tr th {\n",
       "        vertical-align: top;\n",
       "    }\n",
       "\n",
       "    .dataframe thead th {\n",
       "        text-align: right;\n",
       "    }\n",
       "</style>\n",
       "<table border=\"1\" class=\"dataframe\">\n",
       "  <thead>\n",
       "    <tr style=\"text-align: right;\">\n",
       "      <th></th>\n",
       "      <th>user_id</th>\n",
       "    </tr>\n",
       "  </thead>\n",
       "  <tbody>\n",
       "    <tr>\n",
       "      <th>count</th>\n",
       "      <td>76051.000000</td>\n",
       "    </tr>\n",
       "    <tr>\n",
       "      <th>mean</th>\n",
       "      <td>1245.972768</td>\n",
       "    </tr>\n",
       "    <tr>\n",
       "      <th>std</th>\n",
       "      <td>139.843635</td>\n",
       "    </tr>\n",
       "    <tr>\n",
       "      <th>min</th>\n",
       "      <td>1000.000000</td>\n",
       "    </tr>\n",
       "    <tr>\n",
       "      <th>25%</th>\n",
       "      <td>1123.000000</td>\n",
       "    </tr>\n",
       "    <tr>\n",
       "      <th>50%</th>\n",
       "      <td>1251.000000</td>\n",
       "    </tr>\n",
       "    <tr>\n",
       "      <th>75%</th>\n",
       "      <td>1362.000000</td>\n",
       "    </tr>\n",
       "    <tr>\n",
       "      <th>max</th>\n",
       "      <td>1497.000000</td>\n",
       "    </tr>\n",
       "  </tbody>\n",
       "</table>\n",
       "</div>"
      ],
      "text/plain": [
       "            user_id\n",
       "count  76051.000000\n",
       "mean    1245.972768\n",
       "std      139.843635\n",
       "min     1000.000000\n",
       "25%     1123.000000\n",
       "50%     1251.000000\n",
       "75%     1362.000000\n",
       "max     1497.000000"
      ]
     },
     "execution_count": 15,
     "metadata": {},
     "output_type": "execute_result"
    }
   ],
   "source": [
    "# Print the general/summary information about the messages' DataFrame\n",
    "messages.info()\n",
    "messages.describe()\n"
   ]
  },
  {
   "cell_type": "code",
   "execution_count": 16,
   "metadata": {},
   "outputs": [
    {
     "data": {
      "text/html": [
       "<div>\n",
       "<style scoped>\n",
       "    .dataframe tbody tr th:only-of-type {\n",
       "        vertical-align: middle;\n",
       "    }\n",
       "\n",
       "    .dataframe tbody tr th {\n",
       "        vertical-align: top;\n",
       "    }\n",
       "\n",
       "    .dataframe thead th {\n",
       "        text-align: right;\n",
       "    }\n",
       "</style>\n",
       "<table border=\"1\" class=\"dataframe\">\n",
       "  <thead>\n",
       "    <tr style=\"text-align: right;\">\n",
       "      <th></th>\n",
       "      <th>id</th>\n",
       "      <th>user_id</th>\n",
       "      <th>message_date</th>\n",
       "    </tr>\n",
       "  </thead>\n",
       "  <tbody>\n",
       "    <tr>\n",
       "      <th>0</th>\n",
       "      <td>1000_125</td>\n",
       "      <td>1000</td>\n",
       "      <td>2018-12-27</td>\n",
       "    </tr>\n",
       "    <tr>\n",
       "      <th>1</th>\n",
       "      <td>1000_160</td>\n",
       "      <td>1000</td>\n",
       "      <td>2018-12-31</td>\n",
       "    </tr>\n",
       "    <tr>\n",
       "      <th>2</th>\n",
       "      <td>1000_223</td>\n",
       "      <td>1000</td>\n",
       "      <td>2018-12-31</td>\n",
       "    </tr>\n",
       "    <tr>\n",
       "      <th>3</th>\n",
       "      <td>1000_251</td>\n",
       "      <td>1000</td>\n",
       "      <td>2018-12-27</td>\n",
       "    </tr>\n",
       "    <tr>\n",
       "      <th>4</th>\n",
       "      <td>1000_255</td>\n",
       "      <td>1000</td>\n",
       "      <td>2018-12-26</td>\n",
       "    </tr>\n",
       "  </tbody>\n",
       "</table>\n",
       "</div>"
      ],
      "text/plain": [
       "         id  user_id message_date\n",
       "0  1000_125     1000   2018-12-27\n",
       "1  1000_160     1000   2018-12-31\n",
       "2  1000_223     1000   2018-12-31\n",
       "3  1000_251     1000   2018-12-27\n",
       "4  1000_255     1000   2018-12-26"
      ]
     },
     "execution_count": 16,
     "metadata": {},
     "output_type": "execute_result"
    }
   ],
   "source": [
    "# Print a sample of data for messages\n",
    "messages.head()\n"
   ]
  },
  {
   "cell_type": "markdown",
   "metadata": {},
   "source": [
    "[Describe what you see and notice in the general information and the printed data sample for the above price of data. Are there any issues (inappropriate data types, missing data etc) that may need further investigation and changes? How that can be fixed?]"
   ]
  },
  {
   "cell_type": "markdown",
   "metadata": {},
   "source": [
    " "
   ]
  },
  {
   "cell_type": "markdown",
   "metadata": {},
   "source": [
    "### Fix data"
   ]
  },
  {
   "cell_type": "markdown",
   "metadata": {},
   "source": [
    "[Fix obvious issues with the data given the initial observations.]"
   ]
  },
  {
   "cell_type": "code",
   "execution_count": 17,
   "metadata": {},
   "outputs": [
    {
     "name": "stdout",
     "output_type": "stream",
     "text": [
      "0        False\n",
      "1        False\n",
      "2        False\n",
      "3        False\n",
      "4        False\n",
      "         ...  \n",
      "76046    False\n",
      "76047    False\n",
      "76048    False\n",
      "76049    False\n",
      "76050    False\n",
      "Length: 76051, dtype: bool\n"
     ]
    }
   ],
   "source": [
    "#Same as before, checking for duplicates, missing values, wrong formats.\n",
    "messages_duplicates = messages.duplicated()\n",
    "print(messages_duplicates)\n",
    "np.unique(messages_duplicates)\n",
    "messages.isnull().sum()\n",
    "messages['message_date']=pd.to_datetime(messages['message_date'])"
   ]
  },
  {
   "cell_type": "markdown",
   "metadata": {},
   "source": [
    "### Enrich data"
   ]
  },
  {
   "cell_type": "markdown",
   "metadata": {},
   "source": [
    "[Add additional factors to the data if you believe they might be useful.]"
   ]
  },
  {
   "cell_type": "code",
   "execution_count": 18,
   "metadata": {},
   "outputs": [
    {
     "name": "stdout",
     "output_type": "stream",
     "text": [
      "0        12\n",
      "1        12\n",
      "2        12\n",
      "3        12\n",
      "4        12\n",
      "         ..\n",
      "76046    12\n",
      "76047    12\n",
      "76048    12\n",
      "76049    12\n",
      "76050    12\n",
      "Name: month, Length: 76051, dtype: int64\n"
     ]
    }
   ],
   "source": [
    "#Messages are tracked and charged per message sent per month.\n",
    "messages['month'] = messages['message_date'].dt.month\n",
    "print(messages['month'])"
   ]
  },
  {
   "cell_type": "markdown",
   "metadata": {},
   "source": [
    "## Internet"
   ]
  },
  {
   "cell_type": "code",
   "execution_count": 19,
   "metadata": {},
   "outputs": [
    {
     "name": "stdout",
     "output_type": "stream",
     "text": [
      "<class 'pandas.core.frame.DataFrame'>\n",
      "RangeIndex: 104825 entries, 0 to 104824\n",
      "Data columns (total 4 columns):\n",
      " #   Column        Non-Null Count   Dtype  \n",
      "---  ------        --------------   -----  \n",
      " 0   id            104825 non-null  object \n",
      " 1   user_id       104825 non-null  int64  \n",
      " 2   session_date  104825 non-null  object \n",
      " 3   mb_used       104825 non-null  float64\n",
      "dtypes: float64(1), int64(1), object(2)\n",
      "memory usage: 3.2+ MB\n"
     ]
    },
    {
     "data": {
      "text/html": [
       "<div>\n",
       "<style scoped>\n",
       "    .dataframe tbody tr th:only-of-type {\n",
       "        vertical-align: middle;\n",
       "    }\n",
       "\n",
       "    .dataframe tbody tr th {\n",
       "        vertical-align: top;\n",
       "    }\n",
       "\n",
       "    .dataframe thead th {\n",
       "        text-align: right;\n",
       "    }\n",
       "</style>\n",
       "<table border=\"1\" class=\"dataframe\">\n",
       "  <thead>\n",
       "    <tr style=\"text-align: right;\">\n",
       "      <th></th>\n",
       "      <th>user_id</th>\n",
       "      <th>mb_used</th>\n",
       "    </tr>\n",
       "  </thead>\n",
       "  <tbody>\n",
       "    <tr>\n",
       "      <th>count</th>\n",
       "      <td>104825.000000</td>\n",
       "      <td>104825.000000</td>\n",
       "    </tr>\n",
       "    <tr>\n",
       "      <th>mean</th>\n",
       "      <td>1242.496361</td>\n",
       "      <td>366.713701</td>\n",
       "    </tr>\n",
       "    <tr>\n",
       "      <th>std</th>\n",
       "      <td>142.053913</td>\n",
       "      <td>277.170542</td>\n",
       "    </tr>\n",
       "    <tr>\n",
       "      <th>min</th>\n",
       "      <td>1000.000000</td>\n",
       "      <td>0.000000</td>\n",
       "    </tr>\n",
       "    <tr>\n",
       "      <th>25%</th>\n",
       "      <td>1122.000000</td>\n",
       "      <td>136.080000</td>\n",
       "    </tr>\n",
       "    <tr>\n",
       "      <th>50%</th>\n",
       "      <td>1236.000000</td>\n",
       "      <td>343.980000</td>\n",
       "    </tr>\n",
       "    <tr>\n",
       "      <th>75%</th>\n",
       "      <td>1367.000000</td>\n",
       "      <td>554.610000</td>\n",
       "    </tr>\n",
       "    <tr>\n",
       "      <th>max</th>\n",
       "      <td>1499.000000</td>\n",
       "      <td>1693.470000</td>\n",
       "    </tr>\n",
       "  </tbody>\n",
       "</table>\n",
       "</div>"
      ],
      "text/plain": [
       "             user_id        mb_used\n",
       "count  104825.000000  104825.000000\n",
       "mean     1242.496361     366.713701\n",
       "std       142.053913     277.170542\n",
       "min      1000.000000       0.000000\n",
       "25%      1122.000000     136.080000\n",
       "50%      1236.000000     343.980000\n",
       "75%      1367.000000     554.610000\n",
       "max      1499.000000    1693.470000"
      ]
     },
     "execution_count": 19,
     "metadata": {},
     "output_type": "execute_result"
    }
   ],
   "source": [
    "# Print the general/summary information about the internet DataFrame\n",
    "internet.info()\n",
    "internet.describe()\n"
   ]
  },
  {
   "cell_type": "code",
   "execution_count": 20,
   "metadata": {},
   "outputs": [
    {
     "data": {
      "text/html": [
       "<div>\n",
       "<style scoped>\n",
       "    .dataframe tbody tr th:only-of-type {\n",
       "        vertical-align: middle;\n",
       "    }\n",
       "\n",
       "    .dataframe tbody tr th {\n",
       "        vertical-align: top;\n",
       "    }\n",
       "\n",
       "    .dataframe thead th {\n",
       "        text-align: right;\n",
       "    }\n",
       "</style>\n",
       "<table border=\"1\" class=\"dataframe\">\n",
       "  <thead>\n",
       "    <tr style=\"text-align: right;\">\n",
       "      <th></th>\n",
       "      <th>id</th>\n",
       "      <th>user_id</th>\n",
       "      <th>session_date</th>\n",
       "      <th>mb_used</th>\n",
       "    </tr>\n",
       "  </thead>\n",
       "  <tbody>\n",
       "    <tr>\n",
       "      <th>0</th>\n",
       "      <td>1000_13</td>\n",
       "      <td>1000</td>\n",
       "      <td>2018-12-29</td>\n",
       "      <td>89.86</td>\n",
       "    </tr>\n",
       "    <tr>\n",
       "      <th>1</th>\n",
       "      <td>1000_204</td>\n",
       "      <td>1000</td>\n",
       "      <td>2018-12-31</td>\n",
       "      <td>0.00</td>\n",
       "    </tr>\n",
       "    <tr>\n",
       "      <th>2</th>\n",
       "      <td>1000_379</td>\n",
       "      <td>1000</td>\n",
       "      <td>2018-12-28</td>\n",
       "      <td>660.40</td>\n",
       "    </tr>\n",
       "    <tr>\n",
       "      <th>3</th>\n",
       "      <td>1000_413</td>\n",
       "      <td>1000</td>\n",
       "      <td>2018-12-26</td>\n",
       "      <td>270.99</td>\n",
       "    </tr>\n",
       "    <tr>\n",
       "      <th>4</th>\n",
       "      <td>1000_442</td>\n",
       "      <td>1000</td>\n",
       "      <td>2018-12-27</td>\n",
       "      <td>880.22</td>\n",
       "    </tr>\n",
       "  </tbody>\n",
       "</table>\n",
       "</div>"
      ],
      "text/plain": [
       "         id  user_id session_date  mb_used\n",
       "0   1000_13     1000   2018-12-29    89.86\n",
       "1  1000_204     1000   2018-12-31     0.00\n",
       "2  1000_379     1000   2018-12-28   660.40\n",
       "3  1000_413     1000   2018-12-26   270.99\n",
       "4  1000_442     1000   2018-12-27   880.22"
      ]
     },
     "execution_count": 20,
     "metadata": {},
     "output_type": "execute_result"
    }
   ],
   "source": [
    "# Print a sample of data for the internet traffic\n",
    "internet.head()\n"
   ]
  },
  {
   "cell_type": "markdown",
   "metadata": {},
   "source": [
    "[Describe what you see and notice in the general information and the printed data sample for the above price of data. Are there any issues (inappropriate data types, missing data etc) that may need further investigation and changes? How that can be fixed?]"
   ]
  },
  {
   "cell_type": "markdown",
   "metadata": {},
   "source": [
    " "
   ]
  },
  {
   "cell_type": "markdown",
   "metadata": {},
   "source": [
    "### Fix data"
   ]
  },
  {
   "cell_type": "markdown",
   "metadata": {},
   "source": [
    "[Fix obvious issues with the data given the initial observations.]"
   ]
  },
  {
   "cell_type": "code",
   "execution_count": 21,
   "metadata": {},
   "outputs": [
    {
     "name": "stdout",
     "output_type": "stream",
     "text": [
      "0         False\n",
      "1         False\n",
      "2         False\n",
      "3         False\n",
      "4         False\n",
      "          ...  \n",
      "104820    False\n",
      "104821    False\n",
      "104822    False\n",
      "104823    False\n",
      "104824    False\n",
      "Length: 104825, dtype: bool\n"
     ]
    }
   ],
   "source": [
    "#Same as above\n",
    "internet_duplicates = internet.duplicated()\n",
    "print(internet_duplicates)\n",
    "np.unique(internet_duplicates)\n",
    "internet.isnull().sum()\n",
    "\n",
    "internet['session_date'] = pd.to_datetime(internet['session_date'])"
   ]
  },
  {
   "cell_type": "markdown",
   "metadata": {},
   "source": [
    "### Enrich data"
   ]
  },
  {
   "cell_type": "markdown",
   "metadata": {},
   "source": [
    "[Add additional factors to the data if you believe they might be useful.]"
   ]
  },
  {
   "cell_type": "code",
   "execution_count": 22,
   "metadata": {},
   "outputs": [
    {
     "name": "stdout",
     "output_type": "stream",
     "text": [
      "0         12\n",
      "1         12\n",
      "2         12\n",
      "3         12\n",
      "4         12\n",
      "          ..\n",
      "104820    10\n",
      "104821    12\n",
      "104822     9\n",
      "104823    12\n",
      "104824    12\n",
      "Name: month, Length: 104825, dtype: int64\n",
      "0         1.0\n",
      "1         0.0\n",
      "2         1.0\n",
      "3         1.0\n",
      "4         1.0\n",
      "         ... \n",
      "104820    1.0\n",
      "104821    1.0\n",
      "104822    1.0\n",
      "104823    0.0\n",
      "104824    1.0\n",
      "Name: gb_used_rounded, Length: 104825, dtype: float64\n"
     ]
    }
   ],
   "source": [
    "#Internet plan is per month per GB of data rounded up. Google said 1000 for practical conversion is ok, 1024 is for binary.\n",
    "internet['month']=internet['session_date'].dt.month\n",
    "print(internet['month'])\n",
    "internet['gb_used']  = internet['mb_used'] / 1000\n",
    "internet['gb_used_rounded'] = np.ceil(internet['gb_used'])\n",
    "print(internet['gb_used_rounded'])"
   ]
  },
  {
   "cell_type": "markdown",
   "metadata": {},
   "source": [
    "<div class=\"alert alert-success\">\n",
    "  <b>Reviewer’s comment – Iteration 1:</b><br>\n",
    "  Excellent work inspecting each DataFrame with <code>.info()</code>, <code>.describe()</code>, and <code>.head()</code>, while also checking for duplicates and missing values. You correctly converted date fields to <code>datetime</code>, applied per-call rounding to durations, and extracted months for grouping. Great job aligning the preprocessing steps with the project requirements and preparing the data systematically across all tables.\n",
    "</div>\n"
   ]
  },
  {
   "cell_type": "markdown",
   "metadata": {},
   "source": [
    "## Study plan conditions"
   ]
  },
  {
   "cell_type": "markdown",
   "metadata": {},
   "source": [
    "[It is critical to understand how the plans work, how users are charged based on their plan subscription. So, we suggest printing out the plan information to view their conditions once again.]"
   ]
  },
  {
   "cell_type": "code",
   "execution_count": 23,
   "metadata": {},
   "outputs": [
    {
     "name": "stdout",
     "output_type": "stream",
     "text": [
      "Megaline rounds seconds up to minutes, and megabytes to gigabytes. For calls, \n",
      "each individual call is rounded up: even if the call lasted just one second, it will be counted as one minute. \n",
      "For web traffic, individual web sessions are not rounded up. Instead, the total for the month is rounded up. \n",
      "If someone uses 1025 megabytes this month, they will be charged for 2 gigabytes.\n",
      "\n",
      "Surf\n",
      "Monthly charge: $20\n",
      "500 monthly minutes, 50 texts, and 15 GB of data\n",
      "After exceeding the package limits:\n",
      "1 minute: 3 cents\n",
      "1 text message: 3 cents\n",
      "1 GB of data: $10\n",
      "      \n",
      "Ultimate\n",
      "Monthly charge: $70\n",
      "3000 monthly minutes, 1000 text messages, and 30 GB of data\n",
      "After exceeding the package limits:\n",
      "1 minute: 1 cent\n",
      "1 text message: 1 cent\n",
      "1 GB of data: $7\n"
     ]
    }
   ],
   "source": [
    "# Print out the plan conditions and make sure they are clear for you\n",
    "print(\"\"\"Megaline rounds seconds up to minutes, and megabytes to gigabytes. For calls, \n",
    "each individual call is rounded up: even if the call lasted just one second, it will be counted as one minute. \n",
    "For web traffic, individual web sessions are not rounded up. Instead, the total for the month is rounded up. \n",
    "If someone uses 1025 megabytes this month, they will be charged for 2 gigabytes.\n",
    "\n",
    "Surf\n",
    "Monthly charge: $20\n",
    "500 monthly minutes, 50 texts, and 15 GB of data\n",
    "After exceeding the package limits:\n",
    "1 minute: 3 cents\n",
    "1 text message: 3 cents\n",
    "1 GB of data: $10\n",
    "      \n",
    "Ultimate\n",
    "Monthly charge: $70\n",
    "3000 monthly minutes, 1000 text messages, and 30 GB of data\n",
    "After exceeding the package limits:\n",
    "1 minute: 1 cent\n",
    "1 text message: 1 cent\n",
    "1 GB of data: $7\"\"\")\n"
   ]
  },
  {
   "cell_type": "markdown",
   "metadata": {},
   "source": [
    "<div class=\"alert alert-success\">\n",
    "  <b>Reviewer’s comment – Iteration 1:</b><br>\n",
    "  Great job clearly restating the plan conditions from the project brief. This makes it easy to reference the rules for calls, messages, and data rounding while coding the revenue calculations later. It shows attention to detail and ensures your implementation will stay consistent with the business logic.\n",
    "</div>\n"
   ]
  },
  {
   "cell_type": "markdown",
   "metadata": {},
   "source": [
    "## Aggregate data per user\n",
    "\n",
    "[Now, as the data is clean, aggregate data per user per period in order to have just one record per user per period. It should ease the further analysis a lot.]"
   ]
  },
  {
   "cell_type": "code",
   "execution_count": 24,
   "metadata": {},
   "outputs": [
    {
     "name": "stdout",
     "output_type": "stream",
     "text": [
      "      user_id  month  duration\n",
      "0        1000     12        16\n",
      "1        1001      8        27\n",
      "2        1001      9        49\n",
      "3        1001     10        65\n",
      "4        1001     11        64\n",
      "...       ...    ...       ...\n",
      "2253     1498     12        39\n",
      "2254     1499      9        41\n",
      "2255     1499     10        53\n",
      "2256     1499     11        45\n",
      "2257     1499     12        65\n",
      "\n",
      "[2258 rows x 3 columns]\n"
     ]
    }
   ],
   "source": [
    "# Calculate the number of calls made by each user per month. Save the result.\n",
    "calls_agg = calls.groupby(['user_id', 'month']).agg({'duration': 'count'}).reset_index()\n",
    "print(calls_agg)"
   ]
  },
  {
   "cell_type": "code",
   "execution_count": 25,
   "metadata": {},
   "outputs": [
    {
     "name": "stdout",
     "output_type": "stream",
     "text": [
      "               total_minutes  number_of_calls\n",
      "user_id month                                \n",
      "1000    12             124.0               16\n",
      "1001    8              182.0               27\n",
      "        9              315.0               49\n",
      "        10             393.0               65\n",
      "        11             426.0               64\n",
      "...                      ...              ...\n",
      "1498    12             339.0               39\n",
      "1499    9              346.0               41\n",
      "        10             385.0               53\n",
      "        11             308.0               45\n",
      "        12             496.0               65\n",
      "\n",
      "[2258 rows x 2 columns]\n"
     ]
    }
   ],
   "source": [
    "# Calculate the amount of minutes spent by each user per month. Save the result.\n",
    "calls_agg = calls.groupby(['user_id', 'month']).agg({'duration': 'sum'}).reset_index()\n",
    "#print(calls_agg)\n",
    "\n",
    "# I think I can combine these in a table.\n",
    "calls_table = calls.pivot_table(index = ['user_id', 'month'],\n",
    "                                   values = 'duration',\n",
    "                                   aggfunc = ['sum', 'count'])\n",
    "calls_table.columns = ['total_minutes', 'number_of_calls']\n",
    "print(calls_table)"
   ]
  },
  {
   "cell_type": "code",
   "execution_count": 26,
   "metadata": {},
   "outputs": [
    {
     "name": "stdout",
     "output_type": "stream",
     "text": [
      "      user_id  month  message_date\n",
      "0        1000     12            11\n",
      "1        1001      8            30\n",
      "2        1001      9            44\n",
      "3        1001     10            53\n",
      "4        1001     11            36\n",
      "...       ...    ...           ...\n",
      "1801     1496      9            21\n",
      "1802     1496     10            18\n",
      "1803     1496     11            13\n",
      "1804     1496     12            11\n",
      "1805     1497     12            50\n",
      "\n",
      "[1806 rows x 3 columns]\n"
     ]
    }
   ],
   "source": [
    "# Calculate the number of messages sent by each user per month. Save the result.\n",
    "messages_agg = messages.groupby(['user_id', 'month']).agg({'message_date': 'count'}).reset_index()\n",
    "print(messages_agg)"
   ]
  },
  {
   "cell_type": "code",
   "execution_count": 27,
   "metadata": {},
   "outputs": [
    {
     "name": "stdout",
     "output_type": "stream",
     "text": [
      "      user_id  month   gb_used\n",
      "0        1000     12   1.90147\n",
      "1        1001      8   6.91915\n",
      "2        1001      9  13.31482\n",
      "3        1001     10  22.33049\n",
      "4        1001     11  18.50430\n",
      "...       ...    ...       ...\n",
      "2272     1498     12  23.13769\n",
      "2273     1499      9  12.98476\n",
      "2274     1499     10  19.49243\n",
      "2275     1499     11  16.81383\n",
      "2276     1499     12  22.05921\n",
      "\n",
      "[2277 rows x 3 columns]\n"
     ]
    }
   ],
   "source": [
    "# Calculate the volume of internet traffic used by each user per month. Save the result.\n",
    "internet_agg = internet.groupby(['user_id', 'month']).agg({'gb_used': 'sum'}).reset_index()\n",
    "print(internet_agg)"
   ]
  },
  {
   "cell_type": "markdown",
   "metadata": {},
   "source": [
    "<div class=\"alert alert-success\">\n",
    "  <b>Reviewer’s comment – Iteration 1:</b><br>\n",
    "  Excellent job grouping the data by <code>user_id</code> and <code>month</code> to calculate monthly totals. You correctly computed both call counts and total minutes, and your pivot table nicely consolidates them into a single view. The same structured approach for messages and internet traffic ensures consistency across datasets — this is a strong foundation for the revenue calculations.\n",
    "</div>\n"
   ]
  },
  {
   "cell_type": "markdown",
   "metadata": {},
   "source": [
    "[Put the aggregate data together into one DataFrame so that one record in it would represent what an unique user consumed in a given month.]"
   ]
  },
  {
   "cell_type": "code",
   "execution_count": 28,
   "metadata": {},
   "outputs": [
    {
     "data": {
      "text/html": [
       "<div>\n",
       "<style scoped>\n",
       "    .dataframe tbody tr th:only-of-type {\n",
       "        vertical-align: middle;\n",
       "    }\n",
       "\n",
       "    .dataframe tbody tr th {\n",
       "        vertical-align: top;\n",
       "    }\n",
       "\n",
       "    .dataframe thead th {\n",
       "        text-align: right;\n",
       "    }\n",
       "</style>\n",
       "<table border=\"1\" class=\"dataframe\">\n",
       "  <thead>\n",
       "    <tr style=\"text-align: right;\">\n",
       "      <th></th>\n",
       "      <th>user_id</th>\n",
       "      <th>month</th>\n",
       "      <th>calls_duration_minutes</th>\n",
       "      <th>num_messages_sent</th>\n",
       "      <th>internet_traffic_in_gb</th>\n",
       "    </tr>\n",
       "  </thead>\n",
       "  <tbody>\n",
       "    <tr>\n",
       "      <th>0</th>\n",
       "      <td>1000</td>\n",
       "      <td>12</td>\n",
       "      <td>124.0</td>\n",
       "      <td>11.0</td>\n",
       "      <td>1.90147</td>\n",
       "    </tr>\n",
       "    <tr>\n",
       "      <th>1</th>\n",
       "      <td>1001</td>\n",
       "      <td>8</td>\n",
       "      <td>182.0</td>\n",
       "      <td>30.0</td>\n",
       "      <td>6.91915</td>\n",
       "    </tr>\n",
       "    <tr>\n",
       "      <th>2</th>\n",
       "      <td>1001</td>\n",
       "      <td>9</td>\n",
       "      <td>315.0</td>\n",
       "      <td>44.0</td>\n",
       "      <td>13.31482</td>\n",
       "    </tr>\n",
       "    <tr>\n",
       "      <th>3</th>\n",
       "      <td>1001</td>\n",
       "      <td>10</td>\n",
       "      <td>393.0</td>\n",
       "      <td>53.0</td>\n",
       "      <td>22.33049</td>\n",
       "    </tr>\n",
       "    <tr>\n",
       "      <th>4</th>\n",
       "      <td>1001</td>\n",
       "      <td>11</td>\n",
       "      <td>426.0</td>\n",
       "      <td>36.0</td>\n",
       "      <td>18.50430</td>\n",
       "    </tr>\n",
       "    <tr>\n",
       "      <th>5</th>\n",
       "      <td>1001</td>\n",
       "      <td>12</td>\n",
       "      <td>412.0</td>\n",
       "      <td>44.0</td>\n",
       "      <td>19.36918</td>\n",
       "    </tr>\n",
       "    <tr>\n",
       "      <th>6</th>\n",
       "      <td>1002</td>\n",
       "      <td>10</td>\n",
       "      <td>59.0</td>\n",
       "      <td>15.0</td>\n",
       "      <td>6.55201</td>\n",
       "    </tr>\n",
       "    <tr>\n",
       "      <th>7</th>\n",
       "      <td>1002</td>\n",
       "      <td>11</td>\n",
       "      <td>386.0</td>\n",
       "      <td>32.0</td>\n",
       "      <td>19.34508</td>\n",
       "    </tr>\n",
       "    <tr>\n",
       "      <th>8</th>\n",
       "      <td>1002</td>\n",
       "      <td>12</td>\n",
       "      <td>384.0</td>\n",
       "      <td>41.0</td>\n",
       "      <td>14.39624</td>\n",
       "    </tr>\n",
       "    <tr>\n",
       "      <th>9</th>\n",
       "      <td>1003</td>\n",
       "      <td>12</td>\n",
       "      <td>1104.0</td>\n",
       "      <td>50.0</td>\n",
       "      <td>27.04414</td>\n",
       "    </tr>\n",
       "  </tbody>\n",
       "</table>\n",
       "</div>"
      ],
      "text/plain": [
       "   user_id  month  calls_duration_minutes  num_messages_sent  \\\n",
       "0     1000     12                   124.0               11.0   \n",
       "1     1001      8                   182.0               30.0   \n",
       "2     1001      9                   315.0               44.0   \n",
       "3     1001     10                   393.0               53.0   \n",
       "4     1001     11                   426.0               36.0   \n",
       "5     1001     12                   412.0               44.0   \n",
       "6     1002     10                    59.0               15.0   \n",
       "7     1002     11                   386.0               32.0   \n",
       "8     1002     12                   384.0               41.0   \n",
       "9     1003     12                  1104.0               50.0   \n",
       "\n",
       "   internet_traffic_in_gb  \n",
       "0                 1.90147  \n",
       "1                 6.91915  \n",
       "2                13.31482  \n",
       "3                22.33049  \n",
       "4                18.50430  \n",
       "5                19.36918  \n",
       "6                 6.55201  \n",
       "7                19.34508  \n",
       "8                14.39624  \n",
       "9                27.04414  "
      ]
     },
     "metadata": {},
     "output_type": "display_data"
    }
   ],
   "source": [
    "# Merge the data for calls, minutes, messages, internet based on user_id and month\n",
    "merged_df = pd.merge(calls_agg, messages_agg, on=['user_id', 'month'], how='outer')\n",
    "#print(merged_df)\n",
    "merged_df2 = pd.merge(merged_df, internet_agg, on=['user_id', 'month'], how='outer')\n",
    "#print(merged_df2)\n",
    "total_df = merged_df2.rename(columns={'duration':'calls_duration_minutes', 'message_date': 'num_messages_sent', 'gb_used': 'internet_traffic_in_gb'})\n",
    "#print(total_df.head(10))\n",
    "display(total_df.head(10))"
   ]
  },
  {
   "cell_type": "code",
   "execution_count": 47,
   "metadata": {},
   "outputs": [],
   "source": [
    "# Add the plan information\n",
    "plan_info = users[['user_id', 'reg_date', 'churn_date','plan', 'city']]\n",
    "total_df_with_plans = pd.merge(total_df, plan_info, on='user_id', how='outer')\n",
    "#print(total_df_with_plans)\n",
    "display(total_df_with_plans.head(10))\n",
    "total_df_with_plans['internet_traffic_in_gb_rounded'] = np.ceil(total_df_with_plans['internet_traffic_in_gb'])\n",
    "display(internet_traffic_in_gb_rounded.head(10))\n"
   ]
  },
  {
   "cell_type": "markdown",
   "metadata": {},
   "source": [
    "<div class=\"alert alert-success\">\n",
    "  <b>Reviewer’s comment – Iteration 1:</b><br>\n",
    "  Great work merging the monthly aggregates for calls, messages, and internet into one unified DataFrame, and then enriching it with user and plan information. Renaming columns improves readability, and including <code>reg_date</code>, <code>churn_date</code>, and <code>city</code> sets you up well for filtering active months and later hypothesis testing. This is a clean and well-structured data preparation step.\n",
    "</div>\n"
   ]
  },
  {
   "cell_type": "markdown",
   "metadata": {},
   "source": [
    "[Calculate the monthly revenue from each user (subtract the free package limit from the total number of calls, text messages, and data; multiply the result by the calling plan value; add the monthly charge depending on the calling plan). N.B. This might not be as trivial as just a couple of lines given the plan conditions! So, it's okay to spend some time on it.]"
   ]
  },
  {
   "cell_type": "code",
   "execution_count": 32,
   "metadata": {},
   "outputs": [],
   "source": [
    "# Calculate the monthly revenue for each user\n",
    "#def calculate_revenue(row):\n",
    "    #plan = row['plan']\n",
    "    #minutes = row['calls_duration_minutes']\n",
    "    #texts = row['num_messages_sent']\n",
    "    #data = row['internet_traffic_in_gb']\n",
    "    #rounded_data = math.ceil(data)\n",
    "\n",
    "    #if plan == 'surf':\n",
    "        #if minutes <= 500 and texts <= 50 and data <= 15:\n",
    "            #revenue = 20\n",
    "        #else:\n",
    "            #minutes_overage = minutes - 500\n",
    "            #texts_overage = texts - 50\n",
    "            #data_overage = rounded_data - 15\n",
    "            #revenue = 20 + (minutes_overage * 0.03) + (texts_overage * 0.03) + (data_overage * 10)\n",
    "\n",
    "    #elif plan == 'ultimate':\n",
    "        #if minutes <= 3000 and texts <= 1000 and data <= 30:\n",
    "            #revenue = 70\n",
    "        #else:\n",
    "            #minutes_overage = minutes - 3000\n",
    "            #texts_overage = texts - 1000\n",
    "            #data_overage = rounded_data - 30\n",
    "            #revenue = 70 + (minutes_overage * 0.03) + (texts_overage * 0.03) + (data_overage * 10)\n",
    "\n",
    "    #else:\n",
    "        #raise ValueError(\"Invalid Plan\")\n",
    "\n",
    "    #return revenue\n",
    "\n",
    "def calculate_revenue(row):\n",
    "    plan = row['plan']\n",
    "    minutes = row['calls_duration_minutes']\n",
    "    texts = row['num_messages_sent']\n",
    "    data = row['internet_traffic_in_gb_rounded']\n",
    "\n",
    "    if plan == 'surf':\n",
    "        if minutes <= 500 and texts <= 50 and data <= 15:\n",
    "            revenue = 20\n",
    "        else:\n",
    "            minutes_overage = max(0, minutes - 500)\n",
    "            texts_overage = max(0, texts - 50)\n",
    "            data_overage = max(0, data - 15)\n",
    "            revenue = 20 + (minutes_overage * 0.03) + (texts_overage * 0.03) + (data_overage * 10)\n",
    "\n",
    "    elif plan == 'ultimate':\n",
    "        if minutes <= 3000 and texts <= 1000 and data <= 30:\n",
    "            revenue = 70\n",
    "        else:\n",
    "            minutes_overage = max(0, minutes - 3000)\n",
    "            texts_overage = texts - 1000\n",
    "            data_overage = max(0, data - 30)\n",
    "            revenue = 70 + (minutes_overage * 0.01) + (texts_overage * 0.01) + (data_overage * 7)\n",
    "\n",
    "\n",
    "    else:\n",
    "        raise ValueError(\"Invalid Plan\")\n",
    "\n",
    "    return revenue"
   ]
  },
  {
   "cell_type": "code",
   "execution_count": 34,
   "metadata": {},
   "outputs": [
    {
     "data": {
      "text/html": [
       "<div>\n",
       "<style scoped>\n",
       "    .dataframe tbody tr th:only-of-type {\n",
       "        vertical-align: middle;\n",
       "    }\n",
       "\n",
       "    .dataframe tbody tr th {\n",
       "        vertical-align: top;\n",
       "    }\n",
       "\n",
       "    .dataframe thead th {\n",
       "        text-align: right;\n",
       "    }\n",
       "</style>\n",
       "<table border=\"1\" class=\"dataframe\">\n",
       "  <thead>\n",
       "    <tr style=\"text-align: right;\">\n",
       "      <th></th>\n",
       "      <th>user_id</th>\n",
       "      <th>month</th>\n",
       "      <th>calls_duration_minutes</th>\n",
       "      <th>num_messages_sent</th>\n",
       "      <th>internet_traffic_in_gb</th>\n",
       "      <th>reg_date</th>\n",
       "      <th>churn_date</th>\n",
       "      <th>plan</th>\n",
       "      <th>city</th>\n",
       "      <th>internet_traffic_in_gb_rounded</th>\n",
       "      <th>revenue</th>\n",
       "    </tr>\n",
       "  </thead>\n",
       "  <tbody>\n",
       "    <tr>\n",
       "      <th>0</th>\n",
       "      <td>1000</td>\n",
       "      <td>12.0</td>\n",
       "      <td>124.0</td>\n",
       "      <td>11.0</td>\n",
       "      <td>1.90147</td>\n",
       "      <td>2018-12-24</td>\n",
       "      <td>0</td>\n",
       "      <td>ultimate</td>\n",
       "      <td>Atlanta-Sandy Springs-Roswell, GA MSA</td>\n",
       "      <td>2.0</td>\n",
       "      <td>70.00</td>\n",
       "    </tr>\n",
       "    <tr>\n",
       "      <th>1</th>\n",
       "      <td>1001</td>\n",
       "      <td>8.0</td>\n",
       "      <td>182.0</td>\n",
       "      <td>30.0</td>\n",
       "      <td>6.91915</td>\n",
       "      <td>2018-08-13</td>\n",
       "      <td>0</td>\n",
       "      <td>surf</td>\n",
       "      <td>Seattle-Tacoma-Bellevue, WA MSA</td>\n",
       "      <td>7.0</td>\n",
       "      <td>20.00</td>\n",
       "    </tr>\n",
       "    <tr>\n",
       "      <th>2</th>\n",
       "      <td>1001</td>\n",
       "      <td>9.0</td>\n",
       "      <td>315.0</td>\n",
       "      <td>44.0</td>\n",
       "      <td>13.31482</td>\n",
       "      <td>2018-08-13</td>\n",
       "      <td>0</td>\n",
       "      <td>surf</td>\n",
       "      <td>Seattle-Tacoma-Bellevue, WA MSA</td>\n",
       "      <td>14.0</td>\n",
       "      <td>20.00</td>\n",
       "    </tr>\n",
       "    <tr>\n",
       "      <th>3</th>\n",
       "      <td>1001</td>\n",
       "      <td>10.0</td>\n",
       "      <td>393.0</td>\n",
       "      <td>53.0</td>\n",
       "      <td>22.33049</td>\n",
       "      <td>2018-08-13</td>\n",
       "      <td>0</td>\n",
       "      <td>surf</td>\n",
       "      <td>Seattle-Tacoma-Bellevue, WA MSA</td>\n",
       "      <td>23.0</td>\n",
       "      <td>100.09</td>\n",
       "    </tr>\n",
       "    <tr>\n",
       "      <th>4</th>\n",
       "      <td>1001</td>\n",
       "      <td>11.0</td>\n",
       "      <td>426.0</td>\n",
       "      <td>36.0</td>\n",
       "      <td>18.50430</td>\n",
       "      <td>2018-08-13</td>\n",
       "      <td>0</td>\n",
       "      <td>surf</td>\n",
       "      <td>Seattle-Tacoma-Bellevue, WA MSA</td>\n",
       "      <td>19.0</td>\n",
       "      <td>60.00</td>\n",
       "    </tr>\n",
       "    <tr>\n",
       "      <th>5</th>\n",
       "      <td>1001</td>\n",
       "      <td>12.0</td>\n",
       "      <td>412.0</td>\n",
       "      <td>44.0</td>\n",
       "      <td>19.36918</td>\n",
       "      <td>2018-08-13</td>\n",
       "      <td>0</td>\n",
       "      <td>surf</td>\n",
       "      <td>Seattle-Tacoma-Bellevue, WA MSA</td>\n",
       "      <td>20.0</td>\n",
       "      <td>70.00</td>\n",
       "    </tr>\n",
       "    <tr>\n",
       "      <th>6</th>\n",
       "      <td>1002</td>\n",
       "      <td>10.0</td>\n",
       "      <td>59.0</td>\n",
       "      <td>15.0</td>\n",
       "      <td>6.55201</td>\n",
       "      <td>2018-10-21</td>\n",
       "      <td>0</td>\n",
       "      <td>surf</td>\n",
       "      <td>Las Vegas-Henderson-Paradise, NV MSA</td>\n",
       "      <td>7.0</td>\n",
       "      <td>20.00</td>\n",
       "    </tr>\n",
       "    <tr>\n",
       "      <th>7</th>\n",
       "      <td>1002</td>\n",
       "      <td>11.0</td>\n",
       "      <td>386.0</td>\n",
       "      <td>32.0</td>\n",
       "      <td>19.34508</td>\n",
       "      <td>2018-10-21</td>\n",
       "      <td>0</td>\n",
       "      <td>surf</td>\n",
       "      <td>Las Vegas-Henderson-Paradise, NV MSA</td>\n",
       "      <td>20.0</td>\n",
       "      <td>70.00</td>\n",
       "    </tr>\n",
       "    <tr>\n",
       "      <th>8</th>\n",
       "      <td>1002</td>\n",
       "      <td>12.0</td>\n",
       "      <td>384.0</td>\n",
       "      <td>41.0</td>\n",
       "      <td>14.39624</td>\n",
       "      <td>2018-10-21</td>\n",
       "      <td>0</td>\n",
       "      <td>surf</td>\n",
       "      <td>Las Vegas-Henderson-Paradise, NV MSA</td>\n",
       "      <td>15.0</td>\n",
       "      <td>20.00</td>\n",
       "    </tr>\n",
       "    <tr>\n",
       "      <th>9</th>\n",
       "      <td>1003</td>\n",
       "      <td>12.0</td>\n",
       "      <td>1104.0</td>\n",
       "      <td>50.0</td>\n",
       "      <td>27.04414</td>\n",
       "      <td>2018-01-28</td>\n",
       "      <td>0</td>\n",
       "      <td>surf</td>\n",
       "      <td>Tulsa, OK MSA</td>\n",
       "      <td>28.0</td>\n",
       "      <td>168.12</td>\n",
       "    </tr>\n",
       "  </tbody>\n",
       "</table>\n",
       "</div>"
      ],
      "text/plain": [
       "   user_id  month  calls_duration_minutes  num_messages_sent  \\\n",
       "0     1000   12.0                   124.0               11.0   \n",
       "1     1001    8.0                   182.0               30.0   \n",
       "2     1001    9.0                   315.0               44.0   \n",
       "3     1001   10.0                   393.0               53.0   \n",
       "4     1001   11.0                   426.0               36.0   \n",
       "5     1001   12.0                   412.0               44.0   \n",
       "6     1002   10.0                    59.0               15.0   \n",
       "7     1002   11.0                   386.0               32.0   \n",
       "8     1002   12.0                   384.0               41.0   \n",
       "9     1003   12.0                  1104.0               50.0   \n",
       "\n",
       "   internet_traffic_in_gb   reg_date churn_date      plan  \\\n",
       "0                 1.90147 2018-12-24          0  ultimate   \n",
       "1                 6.91915 2018-08-13          0      surf   \n",
       "2                13.31482 2018-08-13          0      surf   \n",
       "3                22.33049 2018-08-13          0      surf   \n",
       "4                18.50430 2018-08-13          0      surf   \n",
       "5                19.36918 2018-08-13          0      surf   \n",
       "6                 6.55201 2018-10-21          0      surf   \n",
       "7                19.34508 2018-10-21          0      surf   \n",
       "8                14.39624 2018-10-21          0      surf   \n",
       "9                27.04414 2018-01-28          0      surf   \n",
       "\n",
       "                                    city  internet_traffic_in_gb_rounded  \\\n",
       "0  Atlanta-Sandy Springs-Roswell, GA MSA                             2.0   \n",
       "1        Seattle-Tacoma-Bellevue, WA MSA                             7.0   \n",
       "2        Seattle-Tacoma-Bellevue, WA MSA                            14.0   \n",
       "3        Seattle-Tacoma-Bellevue, WA MSA                            23.0   \n",
       "4        Seattle-Tacoma-Bellevue, WA MSA                            19.0   \n",
       "5        Seattle-Tacoma-Bellevue, WA MSA                            20.0   \n",
       "6   Las Vegas-Henderson-Paradise, NV MSA                             7.0   \n",
       "7   Las Vegas-Henderson-Paradise, NV MSA                            20.0   \n",
       "8   Las Vegas-Henderson-Paradise, NV MSA                            15.0   \n",
       "9                          Tulsa, OK MSA                            28.0   \n",
       "\n",
       "   revenue  \n",
       "0    70.00  \n",
       "1    20.00  \n",
       "2    20.00  \n",
       "3   100.09  \n",
       "4    60.00  \n",
       "5    70.00  \n",
       "6    20.00  \n",
       "7    70.00  \n",
       "8    20.00  \n",
       "9   168.12  "
      ]
     },
     "metadata": {},
     "output_type": "display_data"
    },
    {
     "name": "stdout",
     "output_type": "stream",
     "text": [
      "Any negative revenues?  False\n",
      "Minimum revenue:  20.0\n",
      "Maximum revenue:  600.37\n",
      "Average revenue by plan:\n",
      " plan\n",
      "surf        63.445966\n",
      "ultimate    72.096975\n",
      "Name: revenue, dtype: float64\n"
     ]
    }
   ],
   "source": [
    "# I want to add this to the dataframe to see if it works.\n",
    "total_df_with_plans = total_df_with_plans.fillna(0)\n",
    "total_df_with_plans['revenue'] = total_df_with_plans.apply(calculate_revenue, axis=1)\n",
    "display(total_df_with_plans.head(10))\n",
    "\n",
    "print(\"Any negative revenues? \", (total_df_with_plans['revenue'] < 0).any())\n",
    "print(\"Minimum revenue: \", total_df_with_plans['revenue'].min())\n",
    "print(\"Maximum revenue: \", total_df_with_plans['revenue'].max())\n",
    "print(\"Average revenue by plan:\\n\", total_df_with_plans.groupby('plan')['revenue'].mean())\n",
    "\n",
    "#I decided to add a column to the dataframe of total gb data rounded above in order to see the actual data usage while using the total rounded for revenue calculations below."
   ]
  },
  {
   "cell_type": "markdown",
   "metadata": {},
   "source": [
    "<div class=\"alert alert-danger\">\n",
    "  <b>Reviewer’s comment – Iteration 1:</b><br>\n",
    "  You’ve made solid progress setting up a revenue function, but a few issues must be corrected before approval:<br><br>\n",
    "\n",
    "  • In the <code>ultimate</code> plan, you are charging <code>0.03</code> per extra minute and text, but according to the project brief, these should be <code>0.01</code> (1 cent each).<br>\n",
    "  • When usage is under the included allowance, your code still calculates negative values (e.g., <code>minutes - 500</code> for Surf). Use <code>max(0, usage - allowance)</code> so overage charges are never negative.<br>\n",
    "  • The rounding rule should apply to the <b>monthly total MB/GB</b>, not per session. Make sure you apply <code>math.ceil</code> only after summing monthly usage.<br>\n",
    "  • Ensure the monthly base fee is always included: 20 for Surf, 70 for Ultimate.<br><br>\n",
    "\n",
    "  ✅ After fixing these points, you can run this quick check to confirm revenues look correct:<br><br>\n",
    "\n",
    "  ```python\n",
    "  # Quick sanity checks\n",
    "  print(\"Any negative revenues? \", (total_df_with_plans['revenue'] < 0).any())\n",
    "  print(\"Minimum revenue: \", total_df_with_plans['revenue'].min())\n",
    "  print(\"Maximum revenue: \", total_df_with_plans['revenue'].max())\n",
    "  print(\"Average revenue by plan:\\n\", total_df_with_plans.groupby('plan')['revenue'].mean())\n",
    "  ```\n",
    "</div> "
   ]
  },
  {
   "cell_type": "markdown",
   "metadata": {},
   "source": [
    "## Study user behaviour"
   ]
  },
  {
   "cell_type": "markdown",
   "metadata": {},
   "source": [
    "[Calculate some useful descriptive statistics for the aggregated and merged data, which typically reveal an overall picture captured by the data. Draw useful plots to help the understanding. Given that the main task is to compare the plans and decide on which one is more profitable, the statistics and the plots should be calculated on a per-plan basis.]\n",
    "\n",
    "[There are relevant hints in the comments for Calls but they are not provided for Messages and Internet though the principle of statistical study is the same for them as for Calls.]"
   ]
  },
  {
   "cell_type": "markdown",
   "metadata": {},
   "source": [
    "### Calls"
   ]
  },
  {
   "cell_type": "code",
   "execution_count": 35,
   "metadata": {},
   "outputs": [
    {
     "data": {
      "image/png": "[encoded data removed]",
      "text/plain": [
       "<Figure size 1000x600 with 1 Axes>"
      ]
     },
     "metadata": {},
     "output_type": "display_data"
    }
   ],
   "source": [
    "# Compare average duration of calls per each plan per each distinct month. Plot a bar plat to visualize it.\n",
    "calls_average = total_df_with_plans.groupby(['plan', 'month'])['calls_duration_minutes'].mean()\n",
    "#print(calls_average)\n",
    "calls_average.plot(kind='bar', figsize=(10, 6))\n",
    "plt.xlabel('Plan & Month')\n",
    "plt.ylabel('Average Duration of Calls')\n",
    "plt.title('Average Duration of Calls of Both Plans Each Month')\n",
    "plt.xticks(rotation=45)\n",
    "plt.tight_layout()\n",
    "plt.show()"
   ]
  },
  {
   "cell_type": "code",
   "execution_count": 36,
   "metadata": {},
   "outputs": [
    {
     "data": {
      "image/png": "[encoded data removed]",
      "text/plain": [
       "<Figure size 640x480 with 1 Axes>"
      ]
     },
     "metadata": {},
     "output_type": "display_data"
    },
    {
     "data": {
      "image/png": "[encoded data removed]",
      "text/plain": [
       "<Figure size 640x480 with 1 Axes>"
      ]
     },
     "metadata": {},
     "output_type": "display_data"
    },
    {
     "data": {
      "image/png": "[encoded data removed]",
      "text/plain": [
       "<Figure size 640x480 with 1 Axes>"
      ]
     },
     "metadata": {},
     "output_type": "display_data"
    }
   ],
   "source": [
    "# Compare the number of minutes users of each plan require each month. Plot a histogram.\n",
    "calls_plan_duration = total_df_with_plans.groupby(['plan', 'month'])['calls_duration_minutes'].sum()\n",
    "#print(calls_plan_duration)\n",
    "#plt.hist([calls_plan_duration], bins=20, alpha=0.7, label=['plan calls duration']) #I see whats happening here, its combining both plans minutes together.\n",
    "#plt.show()\n",
    "surf_duration = calls_plan_duration['surf']\n",
    "ultimate_duration = calls_plan_duration['ultimate']\n",
    "\n",
    "plt.hist([surf_duration], bins=20, alpha=0.7, color='blue', label=['surf'])\n",
    "plt.xlabel('Total calls duration (minutes)')\n",
    "plt.ylabel('Frequency')\n",
    "plt.title('Surf Plan Call Duration')\n",
    "plt.show()\n",
    "\n",
    "plt.hist([ultimate_duration], bins=20, alpha=0.7, color='red', label=['ultimate'])\n",
    "plt.xlabel('Total calls duration (minutes)')\n",
    "plt.ylabel('Frequency')\n",
    "plt.title('Ultimate Plan Call Duration')\n",
    "plt.show()\n",
    "\n",
    "#combining both graphs\n",
    "plt.hist([surf_duration, ultimate_duration], bins=20, alpha=0.7, color=['blue', 'red'], label=['surf', 'ultimate'])\n",
    "plt.xlabel('Total calls duration (minutes)')\n",
    "plt.ylabel('Frequency')\n",
    "plt.title('Surf vs Ultimate Plan Call Duration')\n",
    "plt.legend()\n",
    "plt.show()\n"
   ]
  },
  {
   "cell_type": "markdown",
   "metadata": {},
   "source": [
    "[Calculate the mean and the variable of the call duration to reason on whether users on the different plans have different behaviours for their calls.]"
   ]
  },
  {
   "cell_type": "code",
   "execution_count": 37,
   "metadata": {},
   "outputs": [
    {
     "name": "stdout",
     "output_type": "stream",
     "text": [
      "Surf call duration average: 427.12032932235593\n",
      "Surf call duration variance: 55455.57740014497\n",
      "Surf call duration standard deviation 235.49007919686335\n",
      "Ultimate call duration average: 428.0718232044199\n",
      "Ultimate call duration variance: 58543.878651719744\n",
      "Ultimate call duration standard deviation 241.9584233948464\n"
     ]
    }
   ],
   "source": [
    "# Calculate the mean and the variance of the monthly call duration\n",
    "surf_duration_mean = total_df_with_plans[total_df_with_plans['plan'] == 'surf']['calls_duration_minutes'].mean()\n",
    "surf_duration_variance = total_df_with_plans[total_df_with_plans['plan'] == 'surf']['calls_duration_minutes'].var()\n",
    "surf_duration_std_dev = total_df_with_plans[total_df_with_plans['plan'] == 'surf']['calls_duration_minutes'].std()\n",
    "print(\"Surf call duration average:\", surf_duration_mean)\n",
    "print(\"Surf call duration variance:\", surf_duration_variance)\n",
    "print(\"Surf call duration standard deviation\", surf_duration_std_dev)\n",
    "\n",
    "ultimate_duration_mean = total_df_with_plans[total_df_with_plans['plan'] == 'ultimate']['calls_duration_minutes'].mean()\n",
    "ultimate_duration_variance = total_df_with_plans[total_df_with_plans['plan'] == 'ultimate']['calls_duration_minutes'].var()\n",
    "ultimate_duration_std_dev = total_df_with_plans[total_df_with_plans['plan'] == 'ultimate']['calls_duration_minutes'].std()\n",
    "print(\"Ultimate call duration average:\", ultimate_duration_mean)\n",
    "print(\"Ultimate call duration variance:\", ultimate_duration_variance)\n",
    "print(\"Ultimate call duration standard deviation\", ultimate_duration_std_dev)\n"
   ]
  },
  {
   "cell_type": "code",
   "execution_count": 38,
   "metadata": {},
   "outputs": [
    {
     "data": {
      "image/png": "[encoded data removed]",
      "text/plain": [
       "<Figure size 640x480 with 1 Axes>"
      ]
     },
     "metadata": {},
     "output_type": "display_data"
    }
   ],
   "source": [
    "# Plot a boxplot to visualize the distribution of the monthly call duration\n",
    "surf_data = total_df_with_plans[total_df_with_plans['plan'] == 'surf']['calls_duration_minutes']\n",
    "ultimate_data = total_df_with_plans[total_df_with_plans['plan'] == 'ultimate']['calls_duration_minutes']\n",
    "\n",
    "# Create boxplot with multiple datasets\n",
    "plt.boxplot([surf_data, ultimate_data], labels=['Surf', 'Ultimate'])\n",
    "plt.title('Call Duration by Plan')\n",
    "plt.ylabel('Call Duration (minutes)')\n",
    "plt.show()"
   ]
  },
  {
   "cell_type": "markdown",
   "metadata": {},
   "source": [
    "[Formulate conclusions on how the users behave in terms of calling. Is their behaviour different between the plans?]"
   ]
  },
  {
   "cell_type": "markdown",
   "metadata": {},
   "source": [
    "Since both of the averages between each plan is roughly the same, there seems to not be significant behavior and \n",
    "distribution differences between the plans, which is why both box plots look similar. \n",
    "There is a positive skew for both plans which makes sense since everyone uses minutes and \n",
    "heavy users will tend to use more, shown by some outliers.  "
   ]
  },
  {
   "cell_type": "markdown",
   "metadata": {},
   "source": [
    "<div class=\"alert alert-success\">\n",
    "  <b>Reviewer’s comment – Iteration 1:</b><br>\n",
    "  Excellent work comparing call usage across plans and months with multiple visualization techniques. Your grouped bar chart, histograms (separated and combined), and boxplot provide a clear picture of the distributions. You also correctly calculated and reported the mean, variance, and standard deviation for both plans, then connected the findings to the visual patterns (positive skew, outliers, and overall similarity between Surf and Ultimate). This is a strong and well-documented analysis step.\n",
    "</div>\n"
   ]
  },
  {
   "cell_type": "markdown",
   "metadata": {},
   "source": [
    " "
   ]
  },
  {
   "cell_type": "markdown",
   "metadata": {},
   "source": [
    "### Messages"
   ]
  },
  {
   "cell_type": "code",
   "execution_count": 39,
   "metadata": {},
   "outputs": [
    {
     "name": "stdout",
     "output_type": "stream",
     "text": [
      "Surf messages average: 31.041165294490185\n",
      "Ultimate messages average: 37.3439226519337\n"
     ]
    },
    {
     "data": {
      "image/png": "[encoded data removed]",
      "text/plain": [
       "<Figure size 640x480 with 1 Axes>"
      ]
     },
     "metadata": {},
     "output_type": "display_data"
    },
    {
     "data": {
      "image/png": "[encoded data removed]",
      "text/plain": [
       "<Figure size 640x480 with 1 Axes>"
      ]
     },
     "metadata": {},
     "output_type": "display_data"
    }
   ],
   "source": [
    "# Compare the number of messages users of each plan tend to send each month\n",
    "surf_messages = total_df_with_plans[total_df_with_plans['plan'] == 'surf']['num_messages_sent'].mean()\n",
    "ultimate_messages = total_df_with_plans[total_df_with_plans['plan'] == 'ultimate']['num_messages_sent'].mean()\n",
    "print('Surf messages average:', surf_messages)\n",
    "print('Ultimate messages average:', ultimate_messages)\n",
    "\n",
    "plt.bar(['Surf', 'Ultimate'], [surf_messages, ultimate_messages])\n",
    "plt.xlabel('Plan')\n",
    "plt.ylabel('Average Number of Messages Sent')\n",
    "plt.title('Surf vs Ultimate Messages Sent per Month')\n",
    "plt.show()\n",
    "\n",
    "surf_messages_data = total_df_with_plans[total_df_with_plans['plan'] == 'surf']['num_messages_sent']\n",
    "ultimate_messages_data = total_df_with_plans[total_df_with_plans['plan'] == 'ultimate']['num_messages_sent']\n",
    "plt.boxplot([surf_messages_data, ultimate_messages_data], labels=['Surf Messages', 'Ultimate Messages'])\n",
    "plt.show()"
   ]
  },
  {
   "cell_type": "markdown",
   "metadata": {},
   "source": [
    "Looks like Ultimate plan users send an average of more messages per month than Surf plan users.\n",
    "Just like the call data, there is positive skewing of the data due to the same reasons.\n",
    "There seems to be a fair amount of outliers for Surf users going overage on messaging, \n",
    "which makes sense due to the Surf plans allowing less messages per month before overage."
   ]
  },
  {
   "cell_type": "markdown",
   "metadata": {},
   "source": [
    "<div class=\"alert alert-success\">\n",
    "  <b>Reviewer’s comment – Iteration 1:</b><br>\n",
    "  Nicely done analyzing message usage across plans. You clearly calculated and compared the average number of messages, visualized the results with both bar charts and boxplots, and interpreted the skewness and presence of outliers. Highlighting that Ultimate users send more messages on average and connecting Surf’s lower allowance to the outliers shows strong analytical reasoning.\n",
    "</div>\n"
   ]
  },
  {
   "cell_type": "markdown",
   "metadata": {},
   "source": [
    "### Internet"
   ]
  },
  {
   "cell_type": "code",
   "execution_count": 40,
   "metadata": {},
   "outputs": [
    {
     "name": "stdout",
     "output_type": "stream",
     "text": [
      "Surf internet traffic average: 16.495364110196327\n",
      "Ultimate internet traffic average: 17.119590856353593\n"
     ]
    },
    {
     "data": {
      "image/png": "[encoded data removed]",
      "text/plain": [
       "<Figure size 640x480 with 1 Axes>"
      ]
     },
     "metadata": {},
     "output_type": "display_data"
    },
    {
     "data": {
      "image/png": "[encoded data removed]",
      "text/plain": [
       "<Figure size 640x480 with 1 Axes>"
      ]
     },
     "metadata": {},
     "output_type": "display_data"
    }
   ],
   "source": [
    "# Compare the amount of internet traffic consumed by users per plan\n",
    "surf_internet = total_df_with_plans[total_df_with_plans['plan'] == 'surf']['internet_traffic_in_gb'].mean()\n",
    "ultimate_internet = total_df_with_plans[total_df_with_plans['plan'] == 'ultimate']['internet_traffic_in_gb'].mean()\n",
    "print('Surf internet traffic average:', surf_internet)\n",
    "print('Ultimate internet traffic average:', ultimate_internet)\n",
    "\n",
    "plt.bar(['Surf', 'Ultimate'], [surf_internet, ultimate_internet])\n",
    "plt.xlabel('Plan')\n",
    "plt.ylabel('Average Internet Traffic in GB')\n",
    "plt.title('Surf vs Ultimate Internet Traffic per Month')\n",
    "plt.show()\n",
    "\n",
    "surf_internet_data = total_df_with_plans[total_df_with_plans['plan'] == 'surf']['internet_traffic_in_gb']\n",
    "ultimate_internet_data = total_df_with_plans[total_df_with_plans['plan'] == 'ultimate']['internet_traffic_in_gb']\n",
    "plt.boxplot([surf_internet_data, ultimate_internet_data], labels=['Surf Traffic', 'Ultimate Traffic'])\n",
    "plt.show()\n"
   ]
  },
  {
   "cell_type": "markdown",
   "metadata": {},
   "source": [
    "In terms of average internet traffic, both plans have roughly the same internet traffic.\n",
    "Surf users tend to have more users that uses internet data at a higher frequency, \n",
    "hence the outliers as compared to Ultimate.  Infact, we can see that some users of Ultimate don't \n",
    "even use internet data.  Like the previous graphs, data is positively skewed due to the same reasons."
   ]
  },
  {
   "cell_type": "markdown",
   "metadata": {},
   "source": [
    "<div class=\"alert alert-success\">\n",
    "  <b>Reviewer’s comment – Iteration 1:</b><br>\n",
    "  Great job comparing internet traffic between Surf and Ultimate plans. You correctly calculated the averages, visualized the results with bar charts and boxplots, and noted key insights: both plans have similar overall usage, Surf users show heavier outliers, and some Ultimate users consume little or no data. Your interpretation of the positive skew is consistent with earlier findings, showing a clear and logical analysis.\n",
    "</div>\n"
   ]
  },
  {
   "cell_type": "markdown",
   "metadata": {},
   "source": [
    "[Formulate conclusions on how the users behave in terms of messaging. Is their behaviour different between the plans?]"
   ]
  },
  {
   "cell_type": "markdown",
   "metadata": {},
   "source": [
    "## Revenue"
   ]
  },
  {
   "cell_type": "markdown",
   "metadata": {},
   "source": [
    "[Likewise you have studied the user behaviour, statistically describe the revenue between the plans.]"
   ]
  },
  {
   "cell_type": "code",
   "execution_count": 41,
   "metadata": {},
   "outputs": [
    {
     "name": "stdout",
     "output_type": "stream",
     "text": [
      "Surf Revenue Average: $63.45\n",
      "Surf Revenue Median: $43.75\n",
      "Surf Revenue Variance: $3,290.27\n",
      "Surf Revenue Minimum: $20.00\n",
      "Surf Revenue Maximum: $600.37\n"
     ]
    }
   ],
   "source": [
    "#Since I added the revenue column to the data earlier, we can just sort and proceed :D\n",
    "surf_revenue = total_df_with_plans[total_df_with_plans['plan'] == 'surf']['revenue']\n",
    "ultimate_revenue = total_df_with_plans[total_df_with_plans['plan'] == 'ultimate']['revenue']\n",
    "\n",
    "surf_revenue_average = surf_revenue.mean()\n",
    "surf_revenue_median = surf_revenue.median()\n",
    "surf_revenue_variance = surf_revenue.var()\n",
    "surf_revenue_min = surf_revenue.min()\n",
    "surf_revenue_max = surf_revenue.max()\n",
    "\n",
    "print(f\"Surf Revenue Average: ${surf_revenue_average:,.2f}\")\n",
    "print(f\"Surf Revenue Median: ${surf_revenue_median:,.2f}\")\n",
    "print(f\"Surf Revenue Variance: ${surf_revenue_variance:,.2f}\")\n",
    "print(f\"Surf Revenue Minimum: ${surf_revenue_min:,.2f}\")\n",
    "print(f\"Surf Revenue Maximum: ${surf_revenue_max:,.2f}\")"
   ]
  },
  {
   "cell_type": "code",
   "execution_count": 42,
   "metadata": {},
   "outputs": [
    {
     "name": "stdout",
     "output_type": "stream",
     "text": [
      "Ultimate Revenue Average: $72.10\n",
      "Ultimate Revenue Median: $70.00\n",
      "Ultimate Revenue Variance: $117.93\n",
      "Ultimate Revenue Minimum: $67.26\n",
      "Ultimate Revenue Maximum: $179.73\n"
     ]
    }
   ],
   "source": [
    "ultimate_revenue_average = ultimate_revenue.mean()\n",
    "ultimate_revenue_median = ultimate_revenue.median()\n",
    "ultimate_revenue_variance = ultimate_revenue.var()\n",
    "ultimate_revenue_min = ultimate_revenue.min()\n",
    "ultimate_revenue_max = ultimate_revenue.max()\n",
    "\n",
    "print(f\"Ultimate Revenue Average: ${ultimate_revenue_average:,.2f}\")\n",
    "print(f\"Ultimate Revenue Median: ${ultimate_revenue_median:,.2f}\")\n",
    "print(f\"Ultimate Revenue Variance: ${ultimate_revenue_variance:,.2f}\")\n",
    "print(f\"Ultimate Revenue Minimum: ${ultimate_revenue_min:,.2f}\")\n",
    "print(f\"Ultimate Revenue Maximum: ${ultimate_revenue_max:,.2f}\")"
   ]
  },
  {
   "cell_type": "code",
   "execution_count": 43,
   "metadata": {},
   "outputs": [
    {
     "name": "stdout",
     "output_type": "stream",
     "text": [
      "Surf Total Revenue: $100,181.18\n",
      "Ultimate Total Revenue: $52,198.21\n"
     ]
    }
   ],
   "source": [
    "#Total Revenue\n",
    "total_revenue = total_df_with_plans.groupby('plan')['revenue'].sum()\n",
    "print(f\"Surf Total Revenue: ${total_revenue['surf']:,.2f}\")\n",
    "print(f\"Ultimate Total Revenue: ${total_revenue['ultimate']:,.2f}\")"
   ]
  },
  {
   "cell_type": "code",
   "execution_count": 44,
   "metadata": {},
   "outputs": [
    {
     "data": {
      "image/png": "[encoded data removed]",
      "text/plain": [
       "<Figure size 640x480 with 1 Axes>"
      ]
     },
     "metadata": {},
     "output_type": "display_data"
    },
    {
     "data": {
      "image/png": "[encoded data removed]",
      "text/plain": [
       "<Figure size 640x480 with 1 Axes>"
      ]
     },
     "metadata": {},
     "output_type": "display_data"
    }
   ],
   "source": [
    "#Average revenue as bar plots\n",
    "plt.bar(['Surf', 'Ultimate'], [surf_revenue_average, ultimate_revenue_average])\n",
    "plt.xlabel('Plan')\n",
    "plt.ylabel('Average Revenue')\n",
    "plt.title('Surf vs Ultimate Revenue per Month')\n",
    "plt.show()\n",
    "\n",
    "#Revenue data as box plots\n",
    "plt.boxplot([surf_revenue, ultimate_revenue], labels=['Surf Revenue', 'Ultimate Revenue'])\n",
    "plt.show()"
   ]
  },
  {
   "cell_type": "markdown",
   "metadata": {},
   "source": [
    "[Formulate conclusions about how the revenue differs between the plans.]"
   ]
  },
  {
   "cell_type": "markdown",
   "metadata": {},
   "source": [
    "We can see that by total revenue, Surf plan generates more revenue by a large amount.\n",
    "However the average revenue of surf is less than ultimate.  Surf generates more revenue\n",
    "than ultimate even though ultimate has a higher rate.  This is due to users having\n",
    "massive overage in messages as we saw above.  This is interest since we would think that\n",
    "ultimate, being at a higher rate, would generate more revenue.  People need to watch\n",
    "how much they are messaging!  We also see negative revenue in both but surf has more.  \n",
    "This could be due to data management errors so please let me know if there are.  If there isn't,\n",
    "then it shows potential user behaviors of refunds or other disputes.\n",
    "\n",
    "New Conclusions:\n",
    "Now that revenue calculations are fixed (I think).  We can see that the average revenue of surf is $63.45\n",
    "while the average of ultimate is $72.10.  We see that the median of surf is $43.75 which is more than double\n",
    "the base rate while the median of ultimate is $70 which matches the base rates.  This means that ultimate users\n",
    "for the most part don't go over their monthly usage in the plan limit while surf users tend to have overage.  \n",
    "Ultimate plan generates lower revenue despite being a high rate to surf.  We can see that there are some \n",
    "surf outliers with revenue being $600 as max, which shows these users are on the wrong plan if this continues \n",
    "over the course of many months."
   ]
  },
  {
   "cell_type": "markdown",
   "metadata": {},
   "source": [
    "<div class=\"alert alert-danger\">\n",
    "  <b>Reviewer’s comment – Iteration 1:</b><br>\n",
    "  Nice job summarizing and visualizing revenue by plan, but the results aren’t reliable until you correct the revenue calculation. Please update your function so it prevents negative overages, uses the correct Ultimate rates (0.01 for minutes/text, 7 for GB), and always applies the monthly base fee. After fixing, re-run this analysis and emphasize average and median revenue per user (since totals mainly reflect plan popularity and revenue data is skewed). \n",
    "</div>\n"
   ]
  },
  {
   "cell_type": "markdown",
   "metadata": {},
   "source": [
    "## Test statistical hypotheses"
   ]
  },
  {
   "cell_type": "markdown",
   "metadata": {},
   "source": [
    "[Test the hypothesis that the average revenue from users of the Ultimate and Surf calling plans differs.]"
   ]
  },
  {
   "cell_type": "markdown",
   "metadata": {},
   "source": [
    "[Formulate the null and the alternative hypotheses, choose the statistical test, decide on the alpha value.]"
   ]
  },
  {
   "cell_type": "markdown",
   "metadata": {},
   "source": [
    "Test the hypotheses\n",
    "H0: The revenue generated from both plans are equal to each other.\n",
    "H1: The revenue generated from both plans are different.\n",
    "alpha = 0.05"
   ]
  },
  {
   "cell_type": "code",
   "execution_count": 45,
   "metadata": {},
   "outputs": [
    {
     "name": "stdout",
     "output_type": "stream",
     "text": [
      "Ttest_indResult(statistic=-5.7716251661864115, pvalue=9.217018487595194e-09)\n",
      "Since p-value is less than alpha, we can reject the null hypothesis.\n"
     ]
    }
   ],
   "source": [
    "#Perform two sample t-test since we want both sides\n",
    "alpha = 0.05\n",
    "results = st.ttest_ind(surf_revenue, ultimate_revenue, equal_var=False)\n",
    "print(results)\n",
    "\n",
    "if results.pvalue < alpha:\n",
    "    print('Since p-value is less than alpha, we can reject the null hypothesis.')\n",
    "else:\n",
    "    print('We cannot reject the null hypothesis since the p-value is too big')"
   ]
  },
  {
   "cell_type": "markdown",
   "metadata": {},
   "source": [
    "[Test the hypothesis that the average revenue from users in the NY-NJ area is different from that of the users from the other regions.]"
   ]
  },
  {
   "cell_type": "markdown",
   "metadata": {},
   "source": [
    "[Formulate the null and the alternative hypotheses, choose the statistical test, decide on the alpha value.]"
   ]
  },
  {
   "cell_type": "markdown",
   "metadata": {},
   "source": [
    "Test the hypotheses\n",
    "H0: The revenue generated from NY-NJ areas is equal to the revenue of the other regions.\n",
    "H1: H0: The revenue generated from NY-NJ areas is different to the revenue of the other regions.\n",
    "alpha = 0.05"
   ]
  },
  {
   "cell_type": "code",
   "execution_count": 46,
   "metadata": {},
   "outputs": [
    {
     "name": "stdout",
     "output_type": "stream",
     "text": [
      "Ttest_indResult(statistic=-1.7195632058710741, pvalue=0.08606073345564534)\n",
      "We cannot reject the null hypothesis since the p-value is too big\n"
     ]
    }
   ],
   "source": [
    "ny_nj_revenue = total_df_with_plans[total_df_with_plans['city'] == 'New York-Newark-Jersey City, NY-NJ-PA MSA']['revenue']\n",
    "other_revenue = total_df_with_plans[total_df_with_plans['city'] != 'New York-Newark-Jersey City, NY-NJ-PA MSA']['revenue']\n",
    "#print(f\"NY-NJ revenue data points: {len(ny_nj_revenue)}\")\n",
    "#print(f\"Other cities revenue data points: {len(other_revenue)}\")\n",
    "alpha = 0.05\n",
    "results_ny_nj = st.ttest_ind(ny_nj_revenue, other_revenue, equal_var=False)\n",
    "print(results_ny_nj)\n",
    "\n",
    "if results_ny_nj.pvalue < alpha:\n",
    "    print('Since p-value is less than alpha, we can reject the null hypothesis.')\n",
    "else:\n",
    "    print('We cannot reject the null hypothesis since the p-value is too big')"
   ]
  },
  {
   "cell_type": "markdown",
   "metadata": {},
   "source": [
    "## General conclusion\n",
    "\n",
    "[List your important conclusions in this final section, make sure they cover all those important decisions (assumptions) that you've made and that led you to the way you processed and analyzed the data.]"
   ]
  },
  {
   "cell_type": "markdown",
   "metadata": {},
   "source": [
    "This project was the first to be more hands-off. I had to check my notes on what databases to load since\n",
    "all the previous projects had it pre-filled. I feel like I definitely made some mistakes in data sorting\n",
    "and handling.  This project was fun in the fact that I get to decide how I want to organize my data, and \n",
    "it definitely took longer than the 3-4 hours estimated."
   ]
  }
 ],
 "metadata": {
  "ExecuteTimeLog": [
   {
    "duration": 828,
    "start_time": "2021-11-16T09:21:11.304Z"
   },
   {
    "duration": 893,
    "start_time": "2021-11-16T09:21:17.728Z"
   },
   {
    "duration": 1150,
    "start_time": "2021-11-16T09:21:29.568Z"
   },
   {
    "duration": 3,
    "start_time": "2021-11-16T09:24:14.495Z"
   },
   {
    "duration": 120,
    "start_time": "2021-11-16T09:24:46.630Z"
   },
   {
    "duration": 3,
    "start_time": "2021-11-16T09:28:27.882Z"
   },
   {
    "duration": 4,
    "start_time": "2021-11-16T09:29:54.281Z"
   },
   {
    "duration": 3,
    "start_time": "2021-11-16T09:30:45.936Z"
   },
   {
    "duration": 4,
    "start_time": "2021-11-16T09:31:06.300Z"
   },
   {
    "duration": 113,
    "start_time": "2021-11-16T09:31:37.208Z"
   },
   {
    "duration": 143,
    "start_time": "2021-11-16T09:31:48.656Z"
   },
   {
    "duration": 98,
    "start_time": "2021-11-16T09:31:55.678Z"
   },
   {
    "duration": 3,
    "start_time": "2021-11-16T09:32:08.535Z"
   },
   {
    "duration": 111,
    "start_time": "2021-11-16T09:32:10.120Z"
   },
   {
    "duration": 3,
    "start_time": "2021-11-16T09:32:15.732Z"
   },
   {
    "duration": 4,
    "start_time": "2021-11-16T09:32:29.423Z"
   },
   {
    "duration": 3,
    "start_time": "2021-11-16T10:03:03.074Z"
   },
   {
    "duration": 3,
    "start_time": "2021-11-16T10:10:01.288Z"
   },
   {
    "duration": 3,
    "start_time": "2021-11-16T10:10:46.923Z"
   },
   {
    "duration": 121,
    "start_time": "2021-11-16T10:37:46.494Z"
   },
   {
    "duration": 125,
    "start_time": "2021-11-16T10:38:20.632Z"
   },
   {
    "duration": 112,
    "start_time": "2021-11-16T10:46:53.001Z"
   },
   {
    "duration": 110,
    "start_time": "2021-11-16T10:48:25.775Z"
   },
   {
    "duration": 3,
    "start_time": "2021-11-16T10:50:18.720Z"
   },
   {
    "duration": 4,
    "start_time": "2021-11-16T10:50:37.649Z"
   },
   {
    "duration": 2,
    "start_time": "2021-11-16T10:50:51.884Z"
   },
   {
    "duration": 3,
    "start_time": "2021-11-16T10:51:56.237Z"
   },
   {
    "duration": 101,
    "start_time": "2021-11-16T10:53:13.791Z"
   },
   {
    "duration": 3,
    "start_time": "2021-11-16T10:55:59.186Z"
   },
   {
    "duration": 3,
    "start_time": "2021-11-16T10:56:10.751Z"
   },
   {
    "duration": 3,
    "start_time": "2021-11-16T10:56:49.038Z"
   },
   {
    "duration": 3,
    "start_time": "2021-11-16T10:56:49.174Z"
   },
   {
    "duration": 4,
    "start_time": "2021-11-16T10:56:49.414Z"
   },
   {
    "duration": 3,
    "start_time": "2021-11-16T10:56:49.680Z"
   },
   {
    "duration": 3,
    "start_time": "2021-11-16T10:56:50.370Z"
   },
   {
    "duration": 114,
    "start_time": "2021-11-16T10:59:34.518Z"
   },
   {
    "duration": 3,
    "start_time": "2021-11-16T11:01:41.201Z"
   },
   {
    "duration": 116,
    "start_time": "2021-11-16T11:01:48.754Z"
   },
   {
    "duration": 3,
    "start_time": "2021-11-16T11:02:16.685Z"
   },
   {
    "duration": 3,
    "start_time": "2021-11-16T11:02:19.479Z"
   },
   {
    "duration": 3,
    "start_time": "2021-11-16T11:02:47.067Z"
   },
   {
    "duration": 3,
    "start_time": "2021-11-16T11:02:49.353Z"
   },
   {
    "duration": 3,
    "start_time": "2021-11-16T11:03:07.835Z"
   },
   {
    "duration": 3,
    "start_time": "2021-11-16T11:03:07.953Z"
   },
   {
    "duration": 112,
    "start_time": "2021-11-16T11:07:52.072Z"
   },
   {
    "duration": 187,
    "start_time": "2021-11-16T11:09:23.468Z"
   },
   {
    "duration": 4,
    "start_time": "2021-11-16T11:10:01.455Z"
   },
   {
    "duration": 3,
    "start_time": "2021-11-16T11:10:05.069Z"
   },
   {
    "duration": 4,
    "start_time": "2021-11-16T11:10:13.376Z"
   },
   {
    "duration": 3,
    "start_time": "2021-11-16T11:10:14.434Z"
   },
   {
    "duration": 3,
    "start_time": "2021-11-16T11:10:22.853Z"
   },
   {
    "duration": 4,
    "start_time": "2021-11-16T11:27:29.279Z"
   },
   {
    "duration": 4,
    "start_time": "2021-11-16T11:29:08.919Z"
   },
   {
    "duration": 118,
    "start_time": "2021-11-16T11:29:46.703Z"
   },
   {
    "duration": 437,
    "start_time": "2021-11-16T11:36:02.181Z"
   },
   {
    "duration": 157,
    "start_time": "2021-11-16T11:36:14.388Z"
   },
   {
    "duration": 207,
    "start_time": "2021-11-16T11:47:15.898Z"
   },
   {
    "duration": 3,
    "start_time": "2021-11-16T11:53:52.092Z"
   },
   {
    "duration": 3,
    "start_time": "2021-11-16T11:53:52.236Z"
   },
   {
    "duration": 3,
    "start_time": "2021-11-16T11:59:12.005Z"
   },
   {
    "duration": 112,
    "start_time": "2021-11-16T12:00:33.446Z"
   },
   {
    "duration": 3,
    "start_time": "2021-11-16T12:02:14.453Z"
   },
   {
    "duration": 3,
    "start_time": "2021-11-16T12:02:39.512Z"
   },
   {
    "duration": 106,
    "start_time": "2021-11-16T12:03:03.460Z"
   },
   {
    "duration": 3,
    "start_time": "2021-11-17T20:37:21.139Z"
   },
   {
    "duration": 3,
    "start_time": "2021-11-17T20:37:22.229Z"
   },
   {
    "duration": 3,
    "start_time": "2021-11-17T20:38:38.806Z"
   },
   {
    "duration": 3,
    "start_time": "2021-11-17T20:38:41.958Z"
   },
   {
    "duration": 3,
    "start_time": "2021-11-17T20:43:46.551Z"
   },
   {
    "duration": 4,
    "start_time": "2021-11-17T20:58:21.835Z"
   },
   {
    "duration": 3,
    "start_time": "2021-11-17T20:59:21.872Z"
   },
   {
    "duration": 4,
    "start_time": "2021-11-17T20:59:45.352Z"
   },
   {
    "duration": 4,
    "start_time": "2021-11-17T20:59:49.646Z"
   },
   {
    "duration": 159,
    "start_time": "2021-11-17T21:02:26.949Z"
   },
   {
    "duration": 3,
    "start_time": "2021-11-17T21:03:53.461Z"
   },
   {
    "duration": 3,
    "start_time": "2021-11-17T21:03:53.694Z"
   },
   {
    "duration": 3,
    "start_time": "2021-11-17T21:05:28.145Z"
   },
   {
    "duration": 116,
    "start_time": "2021-11-17T21:05:57.787Z"
   },
   {
    "duration": 3,
    "start_time": "2021-11-17T21:06:37.993Z"
   },
   {
    "duration": 3,
    "start_time": "2021-11-17T21:06:38.261Z"
   },
   {
    "duration": 3,
    "start_time": "2021-11-17T21:11:54.358Z"
   },
   {
    "duration": 3,
    "start_time": "2021-11-17T21:12:43.846Z"
   },
   {
    "duration": 4,
    "start_time": "2021-11-17T21:13:08.773Z"
   },
   {
    "duration": 3,
    "start_time": "2021-11-17T21:14:44.441Z"
   },
   {
    "duration": 3,
    "start_time": "2021-11-17T21:15:42.059Z"
   },
   {
    "duration": 4,
    "start_time": "2021-11-17T21:15:51.995Z"
   },
   {
    "duration": 3,
    "start_time": "2021-11-17T21:15:53.923Z"
   },
   {
    "duration": 3,
    "start_time": "2021-11-17T21:15:55.282Z"
   },
   {
    "duration": 3,
    "start_time": "2021-11-17T21:16:28.492Z"
   },
   {
    "duration": 3,
    "start_time": "2021-11-17T21:16:32.603Z"
   },
   {
    "duration": 3,
    "start_time": "2021-11-17T21:17:06.941Z"
   },
   {
    "duration": 98,
    "start_time": "2021-11-17T21:18:05.733Z"
   },
   {
    "duration": 4,
    "start_time": "2021-11-17T21:21:35.255Z"
   },
   {
    "duration": 3,
    "start_time": "2021-11-17T21:21:37.804Z"
   },
   {
    "duration": 4,
    "start_time": "2021-11-17T21:23:06.071Z"
   },
   {
    "duration": 3,
    "start_time": "2021-11-17T21:23:24.799Z"
   },
   {
    "duration": 3,
    "start_time": "2021-11-17T21:23:32.591Z"
   },
   {
    "duration": 98,
    "start_time": "2021-11-17T21:28:31.559Z"
   },
   {
    "duration": 3,
    "start_time": "2021-11-17T21:28:45.448Z"
   },
   {
    "duration": 3,
    "start_time": "2021-11-17T21:29:17.303Z"
   },
   {
    "duration": 3,
    "start_time": "2021-11-17T21:29:29.617Z"
   },
   {
    "duration": 3,
    "start_time": "2021-11-17T21:29:32.681Z"
   },
   {
    "duration": 3,
    "start_time": "2021-11-17T21:36:11.474Z"
   },
   {
    "duration": 3,
    "start_time": "2021-11-17T21:36:14.791Z"
   },
   {
    "duration": 3,
    "start_time": "2021-11-17T21:36:53.943Z"
   },
   {
    "duration": 3,
    "start_time": "2021-11-17T21:36:56.165Z"
   },
   {
    "duration": 4,
    "start_time": "2021-11-17T21:37:16.590Z"
   },
   {
    "duration": 3,
    "start_time": "2021-11-17T21:37:22.702Z"
   },
   {
    "duration": 4,
    "start_time": "2021-11-17T21:38:03.479Z"
   },
   {
    "duration": 3,
    "start_time": "2021-11-17T21:38:08.601Z"
   },
   {
    "duration": 3,
    "start_time": "2021-11-17T21:38:12.928Z"
   },
   {
    "duration": 3,
    "start_time": "2021-11-17T21:38:48.896Z"
   },
   {
    "duration": 2,
    "start_time": "2021-11-17T21:38:49.171Z"
   },
   {
    "duration": 4,
    "start_time": "2021-11-17T21:39:57.889Z"
   },
   {
    "duration": 3,
    "start_time": "2021-11-17T21:39:58.057Z"
   },
   {
    "duration": 3,
    "start_time": "2021-11-17T21:41:20.108Z"
   },
   {
    "duration": 3,
    "start_time": "2021-11-17T21:41:20.629Z"
   },
   {
    "duration": 3,
    "start_time": "2021-11-17T21:42:49.136Z"
   },
   {
    "duration": 3,
    "start_time": "2021-11-17T21:43:15.137Z"
   },
   {
    "duration": 4,
    "start_time": "2021-11-17T21:43:16.766Z"
   },
   {
    "duration": 4,
    "start_time": "2021-11-17T21:43:31.711Z"
   },
   {
    "duration": 3,
    "start_time": "2021-11-17T21:43:36.312Z"
   },
   {
    "duration": 4,
    "start_time": "2021-11-17T21:45:08.825Z"
   },
   {
    "duration": 4,
    "start_time": "2021-11-17T21:45:10.119Z"
   },
   {
    "duration": 4,
    "start_time": "2021-11-17T21:45:13.748Z"
   },
   {
    "duration": 3,
    "start_time": "2021-11-17T21:45:22.219Z"
   },
   {
    "duration": 3,
    "start_time": "2021-11-17T21:45:33.412Z"
   },
   {
    "duration": 2,
    "start_time": "2021-11-17T21:46:01.885Z"
   },
   {
    "duration": 3,
    "start_time": "2021-11-17T21:46:03.628Z"
   },
   {
    "duration": 107,
    "start_time": "2021-11-17T21:47:32.512Z"
   },
   {
    "duration": 103,
    "start_time": "2021-11-17T21:50:36.243Z"
   },
   {
    "duration": 3,
    "start_time": "2021-11-18T06:28:31.440Z"
   },
   {
    "duration": 3,
    "start_time": "2021-11-18T06:29:00.168Z"
   },
   {
    "duration": 3,
    "start_time": "2021-11-18T06:31:27.008Z"
   },
   {
    "duration": 2,
    "start_time": "2021-11-18T06:35:34.288Z"
   },
   {
    "duration": 2,
    "start_time": "2021-11-18T06:38:04.527Z"
   }
  ],
  "kernelspec": {
   "display_name": "Python 3 (ipykernel)",
   "language": "python",
   "name": "python3"
  },
  "language_info": {
   "codemirror_mode": {
    "name": "ipython",
    "version": 3
   },
   "file_extension": ".py",
   "mimetype": "text/x-python",
   "name": "python",
   "nbconvert_exporter": "python",
   "pygments_lexer": "ipython3",
   "version": "3.9.23"
  },
  "toc": {
   "base_numbering": 1,
   "nav_menu": {},
   "number_sections": true,
   "sideBar": true,
   "skip_h1_title": false,
   "title_cell": "Table of Contents",
   "title_sidebar": "Contents",
   "toc_cell": false,
   "toc_position": {},
   "toc_section_display": true,
   "toc_window_display": true
  }
 },
 "nbformat": 4,
 "nbformat_minor": 4
}
