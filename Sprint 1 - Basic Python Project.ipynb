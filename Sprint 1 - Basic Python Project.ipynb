{
 "cells": [
  {
   "cell_type": "markdown",
   "metadata": {},
   "source": [
    "<div style=\"border: 5px solid purple; padding: 15px; margin: 5px\">\n",
    "<b> Reviewer's comment</b>\n",
    "    \n",
    "Hi Andy, my name is Svetlana (https://hub.tripleten.com/u/6dee602c). Congratulations on submitting your first project! 🎉\n",
    "\n",
    "Before we start, I want to pay your attention to the color marking:\n",
    "    \n",
    "\n",
    "   \n",
    "    \n",
    "<div style=\"border: 5px solid green; padding: 15px; margin: 5px\">\n",
    "\n",
    "Great solutions and ideas that can and should be used in the future are in green comments. Some of them are: \n",
    "    \n",
    "    \n",
    "- You have successfully read the data, well done!\n",
    "    \n",
    "\n",
    "- Code blocks are well-separated and labeled with comments, making it easy to follow;\n",
    "\n",
    "    \n",
    "- Each task is implemented in a clear and understandable manner;    \n",
    "\n",
    "</div>\n",
    "    \n",
    "<div style=\"border: 5px solid gold; padding: 15px; margin: 5px\">\n",
    "<b> Reviewer's comment </b>\n",
    "\n",
    "Yellow color indicates what should be optimized. This is not necessary, but it will be great if you make changes to this project. \n",
    " \n",
    "</div>\n",
    "<div style=\"border: 5px solid red; padding: 15px; margin: 5px\">\n",
    "<b> Reviewer's comment </b>\n",
    "\n",
    "Issues that must be corrected to achieve accurate results are indicated in red comments. However, there are no such issues, great job! \n",
    "</div>      \n",
    "    \n",
    "<hr>\n",
    "    \n",
    "<font color='dodgerblue'>**To sum up:**</font> you did a great job! I see you already know how to read the data, how to check it for the missing values, and how to work with dataframes. I've left some comments with the recommendations for improving the project, but there are no issues that need to be fixed.\n",
    "    \n",
    "    \n",
    "Your project has passed code review. Congratulations 😊\n",
    " \n",
    "    \n",
    "This is a good [article](https://www.kaggle.com/ramprakasism/pandas-75-exercises-with-solutions/notebook) with 75 pandas exercises and solutions. You can go along the exercises and compare your solution with the solution in the article.\n",
    "    \n",
    "    \n",
    "    \n",
    "Take care and good luck! 😊   \n",
    "    \n",
    "\n",
    "<hr>    \n",
    "📌 Here are some tips and tricks that may help you with the Markdown cells:    \n",
    "<hr style=\"border-top: 3px solid purple; \"></hr>\n",
    "\n",
    "You can leave comments using this code inside a Markdown cell:\n",
    "    \n",
    "    \n",
    "    <div class=\"alert alert-info\">\n",
    "    <h2> Student's comment</h2>\n",
    "\n",
    "    Your text here. \n",
    "    </div>\n",
    "\n",
    "    \n",
    "    \n",
    "    <font color='red'> This code is used to change text color. </font>     \n",
    "\n",
    "<font color='red'> It will look like this. </font> \n",
    "    \n",
    "If you don't want your comments to be headings, replace **h2** with **b** or just add `<a class=\"tocSkip\">` after the phrase *Student's comment*.\n",
    "\n",
    "\n",
    "You can find out how to **format text** in a Markdown cell or how to **add links** [here](https://sqlbak.com/blog/jupyter-notebook-markdown-cheatsheet).\n",
    "\n",
    "<hr>\n",
    "\n",
    "📌 Please feel free to schedule a 1:1 sessions with our tutors or TAs [here](https://calendly.com/tripleten-ds-experts-team), join daily coworking sessions, or ask questions in the sprint channels on Discord if you need assistance 😉 \n",
    "\n",
    "\n",
    "</div>"
   ]
  },
  {
   "cell_type": "markdown",
   "metadata": {
    "id": "JKIIqy01lgHq"
   },
   "source": [
    "# Project: Data Analysis with Pandas\n",
    "\n",
    "In this project, you will work with a dataset containing information about movies and shows. You will use the pandas library to read, clean, and analyze the data. This project will help you practice working with DataFrames, indexing, and data manipulation using pandas.\n",
    "\n",
    "\n",
    "## Dataset Description\n",
    "\n",
    "The dataset `movies_and_shows.csv` contains information about various movies and shows, including:\n",
    "\n",
    "- **name**: The name of the actor or actress.\n",
    "- **Character**: The character they played.\n",
    "- **r0le**: The role type (e.g., ACTOR).\n",
    "- **TITLE**: The title of the movie or show.\n",
    "- **Type**: Whether it's a MOVIE or SHOW.\n",
    "- **release Year**: The year it was released.\n",
    "- **genres**: A list of genres the movie or show belongs to.\n",
    "- **imdb sc0re**: The IMDb score of the movie or show.\n",
    "- **imdb v0tes**: The number of votes on IMDb.\n",
    "\n",
    "Here's a small sample of the dataset:\n",
    "\n",
    "| name              | Character                         | r0le   | TITLE        |  Type | release Year | genres             | imdb sc0re | imdb v0tes |\n",
    "|-------------------|-----------------------------------|--------|--------------|-------|--------------|--------------------|------------|------------|\n",
    "| Robert De Niro    | Travis Bickle                     | ACTOR  | Taxi Driver  | MOVIE | 1976         | ['drama', 'crime'] | 8.2        | 808582     |\n",
    "| Jodie Foster      | Iris Steensma                     | ACTOR  | Taxi Driver  | MOVIE | 1976         | ['drama', 'crime'] | 8.2        | 808582     |\n",
    "| Albert Brooks     | Tom                               | ACTOR  | Taxi Driver  | MOVIE | 1976         | ['drama', 'crime'] | 8.2        | 808582     |\n",
    "| Harvey Keitel     | Matthew 'Sport' Higgins           | ACTOR  | Taxi Driver  | MOVIE | 1976         | ['drama', 'crime'] | 8.2        | 808582     |\n",
    "| Cybill Shepherd   | Betsy                             | ACTOR  | Taxi Driver  | MOVIE | 1976         | ['drama', 'crime'] | 8.2        | 808582     |\n",
    "\n"
   ]
  },
  {
   "cell_type": "markdown",
   "metadata": {
    "id": "csnpkGaRlkVj"
   },
   "source": [
    "## Getting Started\n",
    "\n",
    "Let's begin by setting up our environment.\n",
    "\n",
    "### Importing Libraries\n",
    "\n",
    "First, we need to import the necessary libraries.\n",
    "\n",
    "**Instructions:**\n",
    "\n",
    "- Import the `pandas` library, which we will use for data manipulation."
   ]
  },
  {
   "cell_type": "code",
   "execution_count": 31,
   "metadata": {
    "id": "xVSzQhyjlg2F"
   },
   "outputs": [],
   "source": [
    "\n",
    "\n",
    "#Import the pandas library as 'pd'\n",
    "import pandas as pd\n",
    "\n"
   ]
  },
  {
   "cell_type": "markdown",
   "metadata": {},
   "source": [
    "<div style=\"border: 5px solid green; padding: 10px; margin: 5px\">\n",
    "<b>   Reviewer's comment </b>\n",
    "    \n",
    "It is good that you are using **pd** as a reference to pandas. It is convenient as every programmer or analyst has to look for the information on the web or in a documentation. Sometimes you may search for a ready solution and use of a common style is a good idea here as it simplifies understanding someone's code and even copy-paste process. \n",
    "     \n",
    "</div>"
   ]
  },
  {
   "cell_type": "markdown",
   "metadata": {
    "id": "C2Ks4kU9lsH7"
   },
   "source": [
    "We will load the dataset into a pandas DataFrame to begin our analysis.\n",
    "\n",
    "**Instructions:**\n",
    "\n",
    "- Read the `movies_and_shows.csv` file into a DataFrame. It is in the /datasets directory so the full path to include in the read_csv method will be \"/datasets/movies_and_shows.csv\"\n",
    "- Display the first few rows of the DataFrame to get an initial look at the data.\n",
    "\n",
    "**Hints:**\n",
    "\n",
    "- Use `pd.read_csv()` to read the CSV file and store it in a variable called \"df\".\n",
    "- Use the `.head()` method to display the first few rows."
   ]
  },
  {
   "cell_type": "code",
   "execution_count": 32,
   "metadata": {
    "id": "afwv-RRIlwcF"
   },
   "outputs": [],
   "source": [
    "\n",
    "\n",
    "# Read the dataset into a DataFrame\n",
    "df = pd.read_csv(\"/datasets/movies_and_shows.csv\")\n",
    "\n"
   ]
  },
  {
   "cell_type": "code",
   "execution_count": 33,
   "metadata": {
    "id": "iHI5NhB6mYel"
   },
   "outputs": [
    {
     "name": "stdout",
     "output_type": "stream",
     "text": [
      "              name                Character   r0le        TITLE   Type  \\\n",
      "0   Robert De Niro            Travis Bickle  ACTOR  Taxi Driver  MOVIE   \n",
      "1     Jodie Foster            Iris Steensma  ACTOR  Taxi Driver  MOVIE   \n",
      "2    Albert Brooks                      Tom  ACTOR  Taxi Driver  MOVIE   \n",
      "3    Harvey Keitel  Matthew 'Sport' Higgins  ACTOR  Taxi Driver  MOVIE   \n",
      "4  Cybill Shepherd                    Betsy  ACTOR  Taxi Driver  MOVIE   \n",
      "\n",
      "   release Year              genres  imdb sc0re  imdb v0tes  \n",
      "0          1976  ['drama', 'crime']         8.2    808582.0  \n",
      "1          1976  ['drama', 'crime']         8.2    808582.0  \n",
      "2          1976  ['drama', 'crime']         8.2    808582.0  \n",
      "3          1976  ['drama', 'crime']         8.2    808582.0  \n",
      "4          1976  ['drama', 'crime']         8.2    808582.0  \n"
     ]
    }
   ],
   "source": [
    "# Display the first few rows of the DataFrame\n",
    "print(df.head())"
   ]
  },
  {
   "cell_type": "markdown",
   "metadata": {},
   "source": [
    "<div style=\"border: 5px solid gold; padding: 15px; margin: 5px\">\n",
    "<b>   Reviewer's comment </b>\n",
    "    \n",
    "\n",
    "Consider using **display** instead of **print** for the dataframes :) \n",
    "\n",
    "\n",
    "</div>"
   ]
  },
  {
   "cell_type": "markdown",
   "metadata": {
    "id": "otEIbWKZmmaT"
   },
   "source": [
    "Understanding the structure and content of your data is crucial before performing any analysis.\n",
    "\n",
    "**Instructions:**\n",
    "\n",
    "- Use the `.info()` method to get information about the DataFrame.\n",
    "- Identify any issues with the Column names."
   ]
  },
  {
   "cell_type": "code",
   "execution_count": 34,
   "metadata": {
    "id": "v7Oa8Zuzmjo1"
   },
   "outputs": [
    {
     "name": "stdout",
     "output_type": "stream",
     "text": [
      "<class 'pandas.core.frame.DataFrame'>\n",
      "RangeIndex: 85579 entries, 0 to 85578\n",
      "Data columns (total 9 columns):\n",
      " #   Column        Non-Null Count  Dtype  \n",
      "---  ------        --------------  -----  \n",
      " 0      name       85579 non-null  object \n",
      " 1   Character     85579 non-null  object \n",
      " 2   r0le          85579 non-null  object \n",
      " 3   TITLE         85578 non-null  object \n",
      " 4     Type        85579 non-null  object \n",
      " 5   release Year  85579 non-null  int64  \n",
      " 6   genres        85579 non-null  object \n",
      " 7   imdb sc0re    80970 non-null  float64\n",
      " 8   imdb v0tes    80853 non-null  float64\n",
      "dtypes: float64(2), int64(1), object(6)\n",
      "memory usage: 5.9+ MB\n"
     ]
    }
   ],
   "source": [
    "# Get information about the DataFrame and print the column names\n",
    "df.info()"
   ]
  },
  {
   "cell_type": "markdown",
   "metadata": {
    "id": "_rsPAidUm3lS"
   },
   "source": [
    "## Task 1: Data Cleaning\n",
    "\n",
    "Let's clean the data to fix issues with the column names\n",
    "\n",
    "**Instructions:**\n",
    "- Rename the columns to correct any errors and make them consistent.\n",
    "\n",
    "**Hints:**\n",
    "\n",
    "- Use the `.rename()` method to rename columns.\n",
    "- Pass a dictionary to the `columns` parameter of `.rename()`, where the keys are the old column names and the values are the new names.\n",
    "- Remove unnecessary whitespace from the column names."
   ]
  },
  {
   "cell_type": "code",
   "execution_count": 35,
   "metadata": {
    "id": "FkIUzgKPm4Rz"
   },
   "outputs": [],
   "source": [
    "# Rename columns to make them consistent and correct errors\n",
    "df = df.rename(columns={\n",
    "    '   name':'name_actor_actress',\n",
    "    'Character':'character_name',\n",
    "    'r0le':'role',\n",
    "    'TITLE':'title_movie_show',\n",
    "    '  Type':'type_movie_show',\n",
    "    'release Year':'release_year',\n",
    "    'imdb sc0re':'imdb_score',\n",
    "    'imdb v0tes':'imdb_votes',\n",
    "})"
   ]
  },
  {
   "cell_type": "markdown",
   "metadata": {},
   "source": [
    "<div style=\"border: 5px solid green; padding: 15px; margin: 5px\">\n",
    "<b>   Reviewer's comment </b>\n",
    "    \n",
    "\n",
    "Correct. By the way, you can also use string methods: \n",
    "    \n",
    "    df.columns = df.columns.str.strip().str.lower().str.replace(' ', '_').str.replace('0', 'o')\n",
    "    \n",
    "</div>"
   ]
  },
  {
   "cell_type": "code",
   "execution_count": 36,
   "metadata": {
    "id": "cHi0aQgunByj"
   },
   "outputs": [
    {
     "name": "stdout",
     "output_type": "stream",
     "text": [
      "Index(['name_actor_actress', 'character_name', 'role', 'title_movie_show',\n",
      "       'type_movie_show', 'release_year', 'genres', 'imdb_score',\n",
      "       'imdb_votes'],\n",
      "      dtype='object')\n"
     ]
    }
   ],
   "source": [
    "# Print the updated column names to confirm changes\n",
    "print(df.columns)"
   ]
  },
  {
   "cell_type": "markdown",
   "metadata": {
    "id": "z6ShKY5boqj1"
   },
   "source": [
    "## Task 2: Correcting a Misspelled Name in the Data\n",
    "\n",
    "While analyzing the dataset, you notice that some names are misspelled or contain special characters due to encoding issues. Accurate data is essential for reporting and recommendations, so let’s correct one of these entries.\n",
    "\n",
    "### Instructions\n",
    "\n",
    "1. **Locate the Row with the Incorrect Name**:\n",
    "   - Use `.loc[]` to retrieve the row where `name` is `\"In??s Prieto\"`.\n",
    "   - You can locate a row based on the index (85576) and column name called \"name\".\n",
    "   - Print the row to verify that you have the correct one.\n",
    "\n",
    "\n",
    "2. **Correct the Name**:\n",
    "   - Using `.loc[]`, update the `name` column for this row to \"Ines Prieto.\"\n",
    "   \n",
    "3. **Verify the Correction**:\n",
    "   - Print the row again to ensure that the name has been corrected."
   ]
  },
  {
   "cell_type": "code",
   "execution_count": 37,
   "metadata": {
    "id": "JeEDNCYsoo0z"
   },
   "outputs": [
    {
     "data": {
      "text/plain": [
       "'In??s Prieto'"
      ]
     },
     "execution_count": 37,
     "metadata": {},
     "output_type": "execute_result"
    }
   ],
   "source": [
    "# Locate the row with the incorrect name\n",
    "df.loc[85576,'name_actor_actress']"
   ]
  },
  {
   "cell_type": "code",
   "execution_count": 38,
   "metadata": {
    "id": "US2yweQ3RFTE"
   },
   "outputs": [],
   "source": [
    "# Correct the name\n",
    "df.loc[85576,'name_actor_actress'] = 'Ines Prieto'"
   ]
  },
  {
   "cell_type": "code",
   "execution_count": 39,
   "metadata": {
    "id": "IgEGbcNVqLnU"
   },
   "outputs": [
    {
     "data": {
      "text/plain": [
       "'Ines Prieto'"
      ]
     },
     "execution_count": 39,
     "metadata": {},
     "output_type": "execute_result"
    }
   ],
   "source": [
    "# Verify the correction\n",
    "df.loc[85576,'name_actor_actress']"
   ]
  },
  {
   "cell_type": "markdown",
   "metadata": {},
   "source": [
    "<div style=\"border: 5px solid green; padding: 15px; margin: 5px\">\n",
    "<b>   Reviewer's comment </b>\n",
    "    \n",
    "\n",
    "Correct. \n",
    "\n",
    "</div>"
   ]
  },
  {
   "cell_type": "markdown",
   "metadata": {
    "id": "vLIvSF0hsYpE"
   },
   "source": [
    "## Task 3: Finding All Movies and Shows Featuring Ines Prieto\n",
    "\n",
    "Now that we've corrected the spelling of \"Ines Prieto\" in the dataset, let's find all the TV shows and movies she has acted in. This type of filtering is helpful for generating actor-specific profiles or building a list of their works.\n",
    "\n",
    "### Instructions\n",
    "\n",
    "1. **Filter by Actor’s Name**:\n",
    "   - Use a filtering condition to select rows where the `name` column is equal to `\"Ines Prieto\"`.\n",
    "   \n",
    "2. **Display Relevant Columns**:\n",
    "   - From each matching row, retrieve only the `title`, `release_year`, `imdb_score`, and `genres` columns for a clear, concise output.\n",
    "\n",
    "**Hint:**\n",
    "\n",
    "To filter rows based on a specific value in a column, use a condition inside df[ ... ]. In this case, check if the name column equals \"Ines Prieto\". Then, select only the columns you need (like title, release_year, imdb_score, and genres) by specifying them in double brackets [ [ ... ] ].\n"
   ]
  },
  {
   "cell_type": "code",
   "execution_count": 40,
   "metadata": {
    "id": "eksJ9sXXr1UU"
   },
   "outputs": [],
   "source": [
    "# Filter rows where the actor's name is \"Ines Prieto\" and display the title, release_year, genres, and imdb_score\n",
    "result = df[df['name_actor_actress'] == 'Ines Prieto'][['title_movie_show', 'release_year', 'imdb_score', 'genres']]"
   ]
  },
  {
   "cell_type": "code",
   "execution_count": 41,
   "metadata": {
    "id": "vYrm6MhERlZc"
   },
   "outputs": [
    {
     "name": "stdout",
     "output_type": "stream",
     "text": [
      "      title_movie_show  release_year  imdb_score      genres\n",
      "85576          Lokillo          2021         3.8  ['comedy']\n"
     ]
    }
   ],
   "source": [
    "# Display the result\n",
    "print(result)"
   ]
  },
  {
   "cell_type": "markdown",
   "metadata": {
    "id": "HtmXfQHHutNk"
   },
   "source": [
    "## Task 4: Finding Highly Rated Movies\n",
    "\n",
    "We want to identify movies with an IMDb rating of at least **9.0**. This list could be helpful for curating a \"Top Movies\" section based on high ratings.\n",
    "\n",
    "### Instructions\n",
    "\n",
    "1. **Filter for High IMDb Scores**:\n",
    "   - First, filter the DataFrame to include only rows where the `imdb_score` is greater than 9.0.\n",
    "\n",
    "2. **Extract the Titles**:\n",
    "   - From this filtered DataFrame, select only the `title` column, which contains the names of the movies.\n",
    "\n",
    "3. **Get Unique Titles**:\n",
    "   - Convert the resulting list of titles to a set to remove any duplicate titles. Using `set()` will keep only unique movie names.\n",
    "\n",
    "   - *Example*: `unique_titles = set(high_score_titles)`\n",
    "\n",
    "4. **Print the Unique Titles**:\n",
    "   - Display the final set of unique movie titles to see the list of top-rated movies.\n"
   ]
  },
  {
   "cell_type": "code",
   "execution_count": 42,
   "metadata": {
    "id": "B_smQ3cAtAXk"
   },
   "outputs": [
    {
     "name": "stdout",
     "output_type": "stream",
     "text": [
      "['Taxi Driver' 'Deliverance' 'Monty Python and the Holy Grail' ...\n",
      " 'My Bride' 'Fine Wine' 'Lokillo']\n"
     ]
    }
   ],
   "source": [
    "# Filter for movies with an IMDb score above 9.0\n",
    "high_imbd_score_df = df[df['imdb_score'] > 9.0]\n",
    "\n",
    "# Extract the 'title' column from the filtered DataFrame\n",
    "high_score_titles = result['title_movie_show']\n",
    "\n",
    "# Get a unique set of titles\n",
    "unique_high_score_titles = df['title_movie_show'].unique()\n",
    "\n",
    "# Print the unique titles\n",
    "print(unique_high_score_titles)\n"
   ]
  },
  {
   "cell_type": "markdown",
   "metadata": {},
   "source": [
    "<div style=\"border: 5px solid green; padding: 15px; margin: 5px\">\n",
    "<b>   Reviewer's comment </b>\n",
    "    \n",
    "\n",
    "Correct. \n",
    "\n",
    "</div>"
   ]
  },
  {
   "cell_type": "markdown",
   "metadata": {
    "id": "PrlORh6mwoZs"
   },
   "source": [
    "## Task 5: Creating a Function to Find Unique Top-Rated Movies\n",
    "\n",
    "In this task, we’ll create a function to find unique movies with an IMDb score above a certain threshold that the user provides.\n",
    "\n",
    "### Instructions\n",
    "\n",
    "1. **Define the Function**:\n",
    "   - Start by creating a function called `get_unique_top_movies` that takes one parameter, `min_score`.\n",
    "\n",
    "2. **Filter the Data**:\n",
    "   - Inside the function, create a new variable (e.g., `high_score_df`) that stores rows where the `imdb_score` is greater than or equal to `min_score`.\n",
    "\n",
    "3. **Extract Movie Titles**:\n",
    "   - In a new variable (e.g., `high_score_titles`), select the `title` column from the filtered DataFrame.\n",
    "\n",
    "4. **Remove Duplicate Titles**:\n",
    "   - Convert `high_score_titles` to a set using `set(high_score_titles)` to automatically remove duplicates, ensuring each title appears only once.\n",
    "\n",
    "5. **Return the Unique Titles**:\n",
    "   - Make sure the function returns the `unique_titles` set.\n"
   ]
  },
  {
   "cell_type": "code",
   "execution_count": 43,
   "metadata": {
    "id": "pamLDfY9vErT"
   },
   "outputs": [],
   "source": [
    "\n",
    "# Define the function\n",
    "def get_unique_top_movies(min_score):\n",
    "    high_score_df = df[df['imdb_score'] >= min_score]\n",
    "    # Filter for movies with IMDb score above min_score\n",
    "\n",
    "\n",
    "    # Extract the 'title' column\n",
    "    high_score_titles = high_score_df['title_movie_show'] \n",
    "\n",
    "    # Remove duplicate titles\n",
    "    unique_titles = set(high_score_titles)\n",
    "\n",
    "    # Return unique titles\n",
    "    return(unique_titles)\n"
   ]
  },
  {
   "cell_type": "code",
   "execution_count": 44,
   "metadata": {
    "id": "kUUJMTWgww1E"
   },
   "outputs": [
    {
     "name": "stdout",
     "output_type": "stream",
     "text": [
      "{'Major', 'Hunter x Hunter', 'My Mister', 'Our Planet', 'Attack on Titan', 'Arcane', 'Kota Factory', 'Breaking Bad', 'Avatar: The Last Airbender', 'The Last Dance', 'DEATH NOTE', 'Leah Remini: Scientology and the Aftermath', 'Reply 1988', 'Okupas'}\n"
     ]
    }
   ],
   "source": [
    "# Test the function\n",
    "print(get_unique_top_movies(9.0))"
   ]
  },
  {
   "cell_type": "markdown",
   "metadata": {},
   "source": [
    "<div style=\"border: 5px solid green; padding: 15px; margin: 5px\">\n",
    "<b>   Reviewer's comment </b>\n",
    "    \n",
    "Well done! \n",
    "\n",
    "</div>"
   ]
  },
  {
   "cell_type": "markdown",
   "metadata": {
    "id": "YvWTywMQxynt"
   },
   "source": [
    "## Task 6: Creating a Function to Find Top Movies from a Specific Decade\n",
    "\n",
    "Let’s create a function to retrieve movies from a particular decade with high IMDb ratings. This function can be useful for generating lists of top-rated movies from different time periods.\n",
    "\n",
    "### Instructions\n",
    "\n",
    "1. **Define the Function**:\n",
    "   - Create a function called `get_top_movies_from_decade` that accepts `decade_start` and `min_score` as parameters.\n",
    "\n",
    "2. **Filter by Decade**:\n",
    "   - Inside the function, filter the DataFrame to include only movies where `release_year` is within the specified decade.\n",
    "   - *Hint*: You can achieve this by checking that `release_year` is between `decade_start` and `decade_start + 9`\n",
    "\n",
    "3. **Filter by IMDb Score**:\n",
    "   - Further filter this subset to include only movies where `imdb_score` is greater than or equal to `min_score`.\n",
    "\n",
    "4. **Extract Movie Titles**:\n",
    "   - From the resulting DataFrame, select the `title` column and remove duplicates using set().\n",
    "\n",
    "5. **Return the List of Titles**:\n",
    "   - Return the set of the best movies from that decade.\n",
    "\n",
    "By completing this task, you’ll have a function that returns unique, top-rated movies from a specified decade. This is useful for highlighting standout movies from different eras, perfect for “Best of the Decade” features!"
   ]
  },
  {
   "cell_type": "code",
   "execution_count": 45,
   "metadata": {
    "id": "H6pJpElgxxtT"
   },
   "outputs": [],
   "source": [
    "# Define the function\n",
    "def get_top_movies_from_decade(decade_start, min_score):\n",
    "    # Filter for movies released within the decade\n",
    "    decade_movies = df[(df['release_year'] >= decade_start) & (df['release_year'] <= decade_start + 9)] \n",
    "\n",
    "    # Further filter by IMDb score\n",
    "    high_rated_decade_movies = decade_movies[decade_movies['imdb_score'] >= min_score]\n",
    "\n",
    "    # Extract and remove duplicate titles\n",
    "    high_score_decade_titles = high_rated_decade_movies['title_movie_show']\n",
    "    high_score_unique_decade_titles = set(high_score_decade_titles)\n",
    "\n",
    "    # Return unique titles\n",
    "    return(high_score_unique_decade_titles)\n"
   ]
  },
  {
   "cell_type": "code",
   "execution_count": 46,
   "metadata": {
    "id": "r_q7imodyIbz"
   },
   "outputs": [
    {
     "name": "stdout",
     "output_type": "stream",
     "text": [
      "{'GoodFellas', 'Forrest Gump', 'Se7en', 'One Piece', 'Cowboy Bebop', 'L??on: The Professional', 'Bill Hicks: Revelations', 'Neon Genesis Evangelion'}\n"
     ]
    }
   ],
   "source": [
    "# Test the function\n",
    "print(get_top_movies_from_decade(1990, 8.5))"
   ]
  },
  {
   "cell_type": "markdown",
   "metadata": {},
   "source": [
    "<div style=\"border: 5px solid green; padding: 15px; margin: 5px\">\n",
    "<b>   Reviewer's comment </b>\n",
    "    \n",
    "Correct.\n",
    "\n",
    "</div>"
   ]
  },
  {
   "cell_type": "markdown",
   "metadata": {
    "id": "5olBh5JRzYgN"
   },
   "source": [
    "\n",
    "## Task 7: Creating a Function to List All Actors in a Given Title\n",
    "\n",
    "Imagine you want to list all the actors in a specific movie or show. Let’s create a function that takes a `title` as input and returns the names of all actors in that title, combined into a single string.\n",
    "\n",
    "\n",
    "### Instructions\n",
    "\n",
    "1. **Define the Function**:\n",
    "   - Create a function called `get_actors_for_title` that accepts one parameter, `title`.\n",
    "   \n",
    "2. **Filter by Title and Role**:\n",
    "   - Inside the function, filter the DataFrame to select rows where the `title` column matches the provided `title` parameter and the `role` column is `\"ACTOR\"` (to ensure you only retrieve actors).\n",
    "\n",
    "3. **Extract Actor Names**:\n",
    "   - From this filtered DataFrame, select only the `name` column to get the actor names.\n",
    "\n",
    "4. **Combine Names into a Single String**:\n",
    "   - Use `', '.join()` to combine the list of actor names into a single string, with each name separated by a comma.\n",
    "\n",
    "5. **Return the Result**:\n",
    "   - Return the resulting string of actor names.\n",
    "\n",
    "\n",
    "This function will allow you to retrieve and format a list of actors for any movie or show title, which is useful for creating cast lists or displaying actors for specific titles."
   ]
  },
  {
   "cell_type": "code",
   "execution_count": 47,
   "metadata": {
    "id": "hSCm5mYRziCD"
   },
   "outputs": [],
   "source": [
    "# Define the function\n",
    "def get_actors_for_title(title):\n",
    "    # Filter for rows with the specified title and role as 'ACTOR'\n",
    "    actors_in_movie = df[(df['title_movie_show'] == title) & (df['role'] == 'ACTOR')]\n",
    "\n",
    "    # Extract the 'name' column for actor names\n",
    "    actor_names = actors_in_movie['name_actor_actress']\n",
    "\n",
    "    # Combine names into a single string\n",
    "    result = ', '.join(actor_names)\n",
    "\n",
    "    # Return the result\n",
    "    return(result)\n"
   ]
  },
  {
   "cell_type": "code",
   "execution_count": 48,
   "metadata": {
    "id": "BCnnBFUdzj20"
   },
   "outputs": [
    {
     "name": "stdout",
     "output_type": "stream",
     "text": [
      "Robert De Niro, Jodie Foster, Albert Brooks, Harvey Keitel, Cybill Shepherd, Peter Boyle, Leonard Harris, Diahnne Abbott, Gino Ardito, Martin Scorsese, Murray Moston, Richard Higgs, Bill Minkin, Bob Maroff, Victor Argo, Joe Spinell, Robinson Frank Adu, Brenda Dickson, Norman Matlock, Harry Northup, Harlan Cary Poe, Steven Prince, Peter Savage, Nicholas Shields, Ralph S. Singleton, Annie Gagen, Carson Grant, Mary-Pat Green, Debbi Morgan, Don Stroud, Copper Cunningham, Garth Avery, Nat Grant, Billie Perkins, Catherine Scorsese, Charles Scorsese, Odunlade Adekola, Ijeoma Grace Agu\n"
     ]
    }
   ],
   "source": [
    "# Test the function\n",
    "print(get_actors_for_title(\"Taxi Driver\"))"
   ]
  },
  {
   "cell_type": "markdown",
   "metadata": {},
   "source": [
    "<div style=\"border: 5px solid green; padding: 15px; margin: 5px\">\n",
    "<b>   Reviewer's comment </b>\n",
    "    \n",
    "Correct.\n",
    "\n",
    "</div>"
   ]
  },
  {
   "cell_type": "markdown",
   "metadata": {
    "id": "Iu7Zzk7M0o_9"
   },
   "source": [
    "## Task 8: Creating a Function to Categorize Movies by IMDb Score\n",
    "\n",
    "Let’s categorize movies and shows based on their IMDb scores to provide a quick evaluation of their popularity or quality. We’ll create a function that takes in a `title` and returns a rating category based on the movie or show’s IMDb score.\n",
    "\n",
    "### Rating Categories\n",
    "\n",
    "- **Excellent**: IMDb score of 9.0 or higher\n",
    "- **Good**: IMDb score between 7.0 and 8.9\n",
    "- **Average**: IMDb score between 5.0 and 6.9\n",
    "- **Low**: IMDb score below 5.0\n",
    "\n",
    "### Instructions\n",
    "\n",
    "1. **Define the Function**:\n",
    "   - Create a function called `categorize_imdb_score` that accepts one parameter, `title`.\n",
    "\n",
    "2. **Filter by Title**:\n",
    "   - Inside the function, filter the DataFrame to find the row where `title` matches the given title.\n",
    "\n",
    "3. **Retrieve IMDb Score**:\n",
    "   - If the title exists, retrieve the `imdb_score` for that movie or show.\n",
    "   - If the title is not found, return `\"Title not found\"`.\n",
    "\n",
    "4. **Categorize Score with `if-else`**:\n",
    "   - Use `if-elif-else` statements to evaluate the `imdb_score` and return one of the rating categories based on the ranges provided.\n",
    "\n",
    "5. **Return the Category**:\n",
    "   - Return the appropriate category based on the score.\n",
    "\n",
    "This function allows you to quickly categorize movies or shows by their IMDb score, which could be helpful for creating rating tags or recommending top-rated content."
   ]
  },
  {
   "cell_type": "code",
   "execution_count": 49,
   "metadata": {
    "id": "ZfrrGY7h0zYT"
   },
   "outputs": [],
   "source": [
    "\n",
    "# Define the function\n",
    "def categorize_imdb_score(title):\n",
    "    # Filter for the row with the specified title\n",
    "    movie_data = df[df['title_movie_show'] == title]\n",
    "    # Check if title exists\n",
    "    if movie_data.empty:\n",
    "        return \"Title not found\"\n",
    "     # Retrieve the IMDb score for the movie\n",
    "    else:\n",
    "        movie_imdb_score = movie_data['imdb_score'].iloc[0]\n",
    "    # Categorize score using if-else and return the ranking accordingly\n",
    "    if movie_imdb_score >= 9:\n",
    "        return 'Excellent'\n",
    "    elif movie_imdb_score >= 7:\n",
    "        return 'Good'\n",
    "    elif movie_imdb_score >= 5:\n",
    "        return 'Average'\n",
    "    else:\n",
    "        return 'Low'\n",
    "    "
   ]
  },
  {
   "cell_type": "code",
   "execution_count": 50,
   "metadata": {
    "id": "4wqHjcFZ01Qk"
   },
   "outputs": [
    {
     "name": "stdout",
     "output_type": "stream",
     "text": [
      "Good\n"
     ]
    }
   ],
   "source": [
    "# Test the function\n",
    "print(categorize_imdb_score(\"Taxi Driver\"))"
   ]
  },
  {
   "cell_type": "markdown",
   "metadata": {},
   "source": [
    "<div style=\"border: 5px solid green; padding: 10px; margin: 5px\">\n",
    "<b>   Reviewer's comment </b>\n",
    "\n",
    "Excellent job, thank you so much! \n",
    "    \n",
    "\n",
    "In the next projects, please don't forget to add the final conclusion where you outline key results (what has been done) and the conclusions from these results. \n",
    "    \n",
    "</div>"
   ]
  }
 ],
 "metadata": {
  "colab": {
   "provenance": []
  },
  "kernelspec": {
   "display_name": "Python 3 (ipykernel)",
   "language": "python",
   "name": "python3"
  },
  "language_info": {
   "codemirror_mode": {
    "name": "ipython",
    "version": 3
   },
   "file_extension": ".py",
   "mimetype": "text/x-python",
   "name": "python",
   "nbconvert_exporter": "python",
   "pygments_lexer": "ipython3",
   "version": "3.9.23"
  }
 },
 "nbformat": 4,
 "nbformat_minor": 4
}
